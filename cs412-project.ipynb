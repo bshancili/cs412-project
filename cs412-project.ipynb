{
  "cells": [
    {
      "cell_type": "markdown",
      "source": [
        "# CS 412 - Machine Learning - Term Project"
      ],
      "metadata": {
        "id": "1YBkcJIuUFId"
      }
    },
    {
      "cell_type": "markdown",
      "source": [
        "Barış Hancili - 27896\n",
        "\n",
        "Elif Gödüş - 29241\n",
        "\n",
        "---\n",
        "\n",
        "\n",
        "**Objective**\n",
        "\n",
        "The objective of this project is to predict student grades based on interactions with ChatGPT, as well as implementing and analysing regression algorithms to find best performer for this example\n",
        "\n",
        "\n",
        "---\n",
        "\n",
        "\n",
        "\n",
        "**Dataset**\n",
        "\n",
        "The dataset consists of two main components:\n",
        "\n",
        "\n",
        "**ChatGPT Interactions:** These interactions are stored as HTML files, each containing a conversation between a student and ChatGPT.\n",
        "\n",
        "**Student Grades:** This information is stored in a CSV file, where each row corresponds to a student along with their grade.\n",
        "\n",
        "\n",
        "---\n",
        "\n",
        "\n",
        "\n",
        "**Methodology**\n",
        "\n",
        "**Data Preprocessing:** The HTML files are processed to extract the conversational data, and the CSV file is used to link the conversations with the corresponding student grades.\n",
        "\n",
        "**Feature Engineering:** Features such as the length of conversations, sentiment analysis of the interactions, and other relevant metrics are derived from the conversational data.\n",
        "\n",
        "**Model Building:** Regression algorithms such as Linear Regression, Decision Trees, Random Forest, and potentially Neural Network Regression are implemented to predict student grades based on the derived features.\n",
        "\n",
        "**Model Evaluation:** The models are evaluated using metrics such as Mean Squared Error (MSE) and R-squared to assess their performance in predicting student grades."
      ],
      "metadata": {
        "id": "9XMZ_lZtJjP6"
      }
    },
    {
      "cell_type": "markdown",
      "source": [
        "**Importing Necessary Libraries**"
      ],
      "metadata": {
        "id": "iRWlrbotVB11"
      }
    },
    {
      "cell_type": "code",
      "execution_count": 702,
      "metadata": {
        "id": "xZtPtrqtkV0K",
        "colab": {
          "base_uri": "https://localhost:8080/"
        },
        "outputId": "c887cf11-75f6-488d-a27a-9fcbac147bfc"
      },
      "outputs": [
        {
          "output_type": "stream",
          "name": "stderr",
          "text": [
            "[nltk_data] Downloading package punkt to /root/nltk_data...\n",
            "[nltk_data]   Package punkt is already up-to-date!\n",
            "[nltk_data] Downloading package stopwords to /root/nltk_data...\n",
            "[nltk_data]   Package stopwords is already up-to-date!\n"
          ]
        },
        {
          "output_type": "execute_result",
          "data": {
            "text/plain": [
              "True"
            ]
          },
          "metadata": {},
          "execution_count": 702
        }
      ],
      "source": [
        "import os\n",
        "import re\n",
        "import tqdm\n",
        "from glob import glob\n",
        "from pathlib import Path\n",
        "\n",
        "import matplotlib.pyplot as plt\n",
        "import pandas as pd\n",
        "import numpy as np\n",
        "from pprint import pprint\n",
        "import graphviz\n",
        "\n",
        "from collections import defaultdict\n",
        "from bs4 import BeautifulSoup\n",
        "\n",
        "from sklearn.feature_extraction.text import TfidfVectorizer\n",
        "from sklearn.metrics.pairwise import cosine_similarity\n",
        "\n",
        "from sklearn import tree\n",
        "from sklearn.tree import DecisionTreeRegressor\n",
        "from sklearn.model_selection import train_test_split\n",
        "from sklearn.metrics import mean_squared_error, r2_score\n",
        "\n",
        "import nltk\n",
        "nltk.download('punkt')\n",
        "nltk.download('stopwords')"
      ]
    },
    {
      "cell_type": "markdown",
      "source": [
        "**Extracting Conversation**\n",
        "\n",
        "Following code uses the glob module to find all HTML files in a specified directory (**dataset**), then iterates through each file. For each file, it reads its content using open and read, and then parses the HTML content using BeautifulSoup. It looks for specific div elements within the HTML that likely contain conversation data and extracts relevant information such as the role of the message author and the message text. This information is then organized into a dictionary where the keys are unique identifiers for each file, and the values are lists of dictionaries containing the extracted conversation data."
      ],
      "metadata": {
        "id": "Sa9fhih8VUB4"
      }
    },
    {
      "cell_type": "code",
      "execution_count": 703,
      "metadata": {
        "id": "IW8to8VNkV0V",
        "colab": {
          "base_uri": "https://localhost:8080/"
        },
        "outputId": "28eb078f-26a4-4110-b5b2-584546c6de93"
      },
      "outputs": [
        {
          "output_type": "stream",
          "name": "stderr",
          "text": [
            "100%|██████████| 127/127 [00:24<00:00,  5.10it/s]\n"
          ]
        }
      ],
      "source": [
        "data_path = \"dataset/*.html\"\n",
        "\n",
        "code2convos = dict()\n",
        "\n",
        "pbar = tqdm.tqdm(sorted(list(glob(data_path))))\n",
        "for path in pbar:\n",
        "    # print(Path.cwd() / path)\n",
        "    file_code = os.path.basename(path).split(\".\")[0]\n",
        "    with open(path, \"r\", encoding=\"latin1\") as fh:\n",
        "\n",
        "        # get the file id to use it as key later on\n",
        "        fid = os.path.basename(path).split(\".\")[0]\n",
        "\n",
        "        # read the html file\n",
        "        html_page = fh.read()\n",
        "\n",
        "        # parse the html file with bs4 so we can extract needed stuff\n",
        "        soup = BeautifulSoup(html_page, \"html.parser\")\n",
        "\n",
        "        # grab the conversations with the data-testid pattern\n",
        "        data_test_id_pattern = re.compile(r\"conversation-turn-[0-9]+\")\n",
        "        conversations = soup.find_all(\"div\", attrs={\"data-testid\": data_test_id_pattern})\n",
        "\n",
        "        convo_texts = []\n",
        "\n",
        "        for i, convo in enumerate(conversations):\n",
        "            convo = convo.find_all(\"div\", attrs={\"data-message-author-role\":re.compile( r\"[user|assistant]\") })\n",
        "            if len(convo) > 0:\n",
        "                role = convo[0].get(\"data-message-author-role\")\n",
        "                convo_texts.append({\n",
        "                        \"role\" : role,\n",
        "                        \"text\" : convo[0].text\n",
        "                    }\n",
        "                )\n",
        "\n",
        "        code2convos[file_code] = convo_texts"
      ]
    },
    {
      "cell_type": "markdown",
      "source": [
        "**Example Conversation:**\n",
        "\n",
        "\n"
      ],
      "metadata": {
        "id": "NYaYdHmaWLRa"
      }
    },
    {
      "cell_type": "code",
      "execution_count": 704,
      "metadata": {
        "id": "Rz9VouyKkV0Z",
        "colab": {
          "base_uri": "https://localhost:8080/"
        },
        "outputId": "cf38eef7-fa78-4c16-9769-a714d6e26047"
      },
      "outputs": [
        {
          "output_type": "stream",
          "name": "stdout",
          "text": [
            "{'role': 'user',\n",
            " 'text': 'Load a CSV file into a Pandas in Python. The file is named '\n",
            "         \"'cs412_hw1_dataset.csv' and contains columns like 'Species', \"\n",
            "         \"'Island', 'Sex', 'Diet', 'Year', 'Life Stage', 'Body Mass (g)', \"\n",
            "         \"'Bill Length (mm)', 'Bill Depth (mm)', 'Flipper Length (mm)', and \"\n",
            "         \"'Health Metrics'. \\n\"}\n"
          ]
        }
      ],
      "source": [
        "pprint(code2convos[\"0031c86e-81f4-4eef-9e0e-28037abf9883\"][0])"
      ]
    },
    {
      "cell_type": "markdown",
      "source": [
        "### **Text Preprocessing**\n",
        "\n",
        "In our project, text preprocessing played a crucial role in preparing the data for analysis. By applying lowercasing, removing punctuation and special characters, tokenization, stop-words removal, stemming, and text normalization to both the conversations and questions, we aimed to standardize the textual data and make it more amenable to the algorithms."
      ],
      "metadata": {
        "id": "w9Tlw_hlXQM7"
      }
    },
    {
      "cell_type": "markdown",
      "source": [
        "**Lowercasing**"
      ],
      "metadata": {
        "id": "_b-Ak9JUXgIv"
      }
    },
    {
      "cell_type": "code",
      "source": [
        "for file_code, convos in code2convos.items():\n",
        "    for convo in convos:\n",
        "        convo['text'] = convo['text'].lower()"
      ],
      "metadata": {
        "id": "FvYNJtAm_rST"
      },
      "execution_count": 705,
      "outputs": []
    },
    {
      "cell_type": "markdown",
      "source": [
        "**Removing Punctuation and Special Characters**"
      ],
      "metadata": {
        "id": "s1_ngjo1XoPH"
      }
    },
    {
      "cell_type": "code",
      "source": [
        "for file_code, convos in code2convos.items():\n",
        "    for convo in convos:\n",
        "        convo['text'] = re.sub(r'[^a-zA-Z0-9\\s]', '', convo['text'])"
      ],
      "metadata": {
        "id": "QolSy_apXqsE"
      },
      "execution_count": 706,
      "outputs": []
    },
    {
      "cell_type": "markdown",
      "source": [
        "**Tokenization**"
      ],
      "metadata": {
        "id": "Q2wpuuVBX0AZ"
      }
    },
    {
      "cell_type": "code",
      "source": [
        "from nltk.tokenize import word_tokenize\n",
        "\n",
        "for file_code, convos in code2convos.items():\n",
        "    for convo in convos:\n",
        "        tokens = word_tokenize(convo['text'])\n",
        "        convo['tokens'] = tokens"
      ],
      "metadata": {
        "id": "v4CsU8L0X0WZ"
      },
      "execution_count": 707,
      "outputs": []
    },
    {
      "cell_type": "markdown",
      "source": [
        "**Stop-Words Removal**"
      ],
      "metadata": {
        "id": "89t-eSyjX58a"
      }
    },
    {
      "cell_type": "code",
      "source": [
        "from nltk.corpus import stopwords\n",
        "\n",
        "stop_words = set(stopwords.words('english'))\n",
        "\n",
        "for file_code, convos in code2convos.items():\n",
        "    for convo in convos:\n",
        "        filtered_tokens = [word for word in convo['tokens'] if word.lower() not in stop_words]\n",
        "        convo['filtered_tokens'] = filtered_tokens"
      ],
      "metadata": {
        "id": "ewDgERXAX-Vd"
      },
      "execution_count": 708,
      "outputs": []
    },
    {
      "cell_type": "markdown",
      "source": [
        "**Stemming**"
      ],
      "metadata": {
        "id": "ki_1HANJYav5"
      }
    },
    {
      "cell_type": "code",
      "source": [
        "from nltk.stem import SnowballStemmer\n",
        "\n",
        "stemmer = SnowballStemmer(language='english')\n",
        "\n",
        "for file_code, convos in code2convos.items():\n",
        "    for convo in convos:\n",
        "        stemmed_tokens = [stemmer.stem(word) for word in convo['filtered_tokens']]\n",
        "        convo['stemmed_tokens'] = stemmed_tokens"
      ],
      "metadata": {
        "id": "UH6LkqRIYD9k"
      },
      "execution_count": 709,
      "outputs": []
    },
    {
      "cell_type": "markdown",
      "source": [
        "**Text Normalization**"
      ],
      "metadata": {
        "id": "LOfixHhbY-tO"
      }
    },
    {
      "cell_type": "code",
      "source": [
        "for file_code, convos in code2convos.items():\n",
        "    for convo in convos:\n",
        "        text = ' '.join(convo['stemmed_tokens'])\n",
        "        convo['text'] = text\n",
        "        keys_to_remove = [key for key in convo.keys() if key not in ['role', 'text']]\n",
        "        for key in keys_to_remove:\n",
        "            del convo[key]"
      ],
      "metadata": {
        "id": "Q56qgxeMY9i1"
      },
      "execution_count": 710,
      "outputs": []
    },
    {
      "cell_type": "markdown",
      "source": [
        "**Example Conversation After Preprocessing:**"
      ],
      "metadata": {
        "id": "KdJGV3LWZOXQ"
      }
    },
    {
      "cell_type": "code",
      "execution_count": 711,
      "metadata": {
        "colab": {
          "base_uri": "https://localhost:8080/"
        },
        "outputId": "cc5fce9f-893a-4ebc-d1f4-dc186e63b98c",
        "id": "CACevAe8ZUgB"
      },
      "outputs": [
        {
          "output_type": "stream",
          "name": "stdout",
          "text": [
            "{'role': 'user',\n",
            " 'text': 'load csv file panda python file name cs412hw1datasetcsv contain '\n",
            "         'column like speci island sex diet year life stage bodi mass g bill '\n",
            "         'length mm bill depth mm flipper length mm health metric'}\n"
          ]
        }
      ],
      "source": [
        "pprint(code2convos[\"0031c86e-81f4-4eef-9e0e-28037abf9883\"][0])"
      ]
    },
    {
      "cell_type": "markdown",
      "source": [
        "**Preprocessing for Questions**"
      ],
      "metadata": {
        "id": "X5Xvp21kZsu7"
      }
    },
    {
      "cell_type": "code",
      "source": [
        "questions = [\n",
        "    \"\"\"Initialize\n",
        "*   First make a copy of the notebook given to you as a starter.\n",
        "*   Make sure you choose Connect form upper right.\n",
        "*   You may upload the data to the section on your left on Colab, than right click on the .csv file and get the path of the file by clicking on \"Copy Path\". You will be using it when loading the data.\n",
        "\n",
        "\"\"\",\n",
        "#####################\n",
        "    \"\"\"Load training dataset (5 pts)\n",
        "    *  Read the .csv file with the pandas library\n",
        "\"\"\",\n",
        "#####################\n",
        "\"\"\"Understanding the dataset & Preprocessing (15 pts)\n",
        "Understanding the Dataset: (5 pts)\n",
        "> - Find the shape of the dataset (number of samples & number of attributes). (Hint: You can use the **shape** function)\n",
        "> - Display variable names (both dependent and independent).\n",
        "> - Display the summary of the dataset. (Hint: You can use the **info** function)\n",
        "> - Display the first 5 rows from training dataset. (Hint: You can use the **head** function)\n",
        "Preprocessing: (10 pts)\n",
        "\n",
        "> - Check if there are any missing values in the dataset. If there are, you can either drop these values or fill it with most common values in corresponding rows. **Be careful that you have enough data for training the  model.**\n",
        "\n",
        "> - Encode categorical labels with the mappings given in the cell below. (Hint: You can use **map** function)\n",
        "\"\"\",\n",
        "\"\"\"Set X & y, split data (5 pts)\n",
        "\n",
        "*   Shuffle the dataset.\n",
        "*   Seperate your dependent variable X, and your independent variable y. The column health_metrics is y, the rest is X.\n",
        "*   Split training and test sets as 80% and 20%, respectively.\n",
        "\"\"\",\n",
        "#####################\n",
        "\"\"\"Features and Correlations (10 pts)\n",
        "\n",
        "* Correlations of features with health (4 points)\n",
        "Calculate the correlations for all features in dataset. Highlight any strong correlations with the target variable. Plot your results in a heatmap.\n",
        "\n",
        "* Feature Selection (3 points)\n",
        "Select a subset of features that are likely strong predictors, justifying your choices based on the computed correlations.\n",
        "\n",
        "* Hypothetical Driver Features (3 points)\n",
        "Propose two hypothetical features that could enhance the model's predictive accuracy for Y, explaining how they might be derived and their expected impact. Show the resulting correlations with target variable.\n",
        "\n",
        "* __Note:__ You get can get help from GPT.\n",
        "\"\"\",\n",
        "#####################\n",
        "\"\"\"Tune Hyperparameters (20 pts)\n",
        "* Choose 2 hyperparameters to tune. You can use the Scikit learn decision tree documentation for the available hyperparameters *(Hyperparameters are listed under \"Parameters\" in the documentation)*. Use GridSearchCV for hyperparameter tuning, with a cross-validation value of 5. Use validation accuracy to pick the best hyper-parameter values. (15 pts)\n",
        "-Explain the hyperparameters you chose to tune. *(What are the hyperparameters you chose? Why did you choose them?)* (5 pts)\n",
        "\"\"\",\n",
        "#####################\n",
        "\"\"\"Re-train and plot the decision tree with the hyperparameters you have chosen (15 pts)\n",
        "- Re-train model with the hyperparameters you have chosen in part 5). (10 pts)\n",
        "- Plot the tree you have trained. (5 pts)\n",
        "Hint: You can import the **plot_tree** function from the sklearn library.\n",
        "\"\"\",\n",
        "#####################\n",
        "\"\"\"Test your classifier on the test set (20 pts)\n",
        "- Predict the labels of testing data using the tree you have trained in step 6. (10 pts)\n",
        "- Report the classification accuracy. (2 pts)\n",
        "- Plot & investigate the confusion matrix. Fill the following blanks. (8 pts)\n",
        "> The model most frequently mistakes class(es) _________ for class(es) _________.\n",
        "Hint: You can use the confusion_matrix function from sklearn.metrics\n",
        "\"\"\",\n",
        "#####################\n",
        "\"\"\"Find the information gain on the first split (10 pts)\"\"\",\n",
        "#####################\n",
        "]"
      ],
      "metadata": {
        "id": "IwsA-N1yE6ll"
      },
      "execution_count": 712,
      "outputs": []
    },
    {
      "cell_type": "code",
      "source": [
        "stemmer = SnowballStemmer(language='english')\n",
        "stop_words = set(stopwords.words('english'))\n",
        "\n",
        "# Preprocess each question in the list\n",
        "for i in range(len(questions)):\n",
        "    # Lowercasing\n",
        "    questions[i] = questions[i].lower()\n",
        "    # Removing Punctuation and Special Characters\n",
        "    questions[i] = re.sub(r'[^a-zA-Z0-9\\s]', '', questions[i])\n",
        "    # Tokenization\n",
        "    tokens = word_tokenize(questions[i])\n",
        "    # Stop-Words Removal\n",
        "    filtered_tokens = [word for word in tokens if word.lower() not in stop_words]\n",
        "    # Stemming\n",
        "    stemmed_tokens = [stemmer.stem(word) for word in filtered_tokens]\n",
        "    # Text Normalization\n",
        "    questions[i] = ' '.join(stemmed_tokens)"
      ],
      "metadata": {
        "id": "jeHz5Su5FCPe"
      },
      "execution_count": 713,
      "outputs": []
    },
    {
      "cell_type": "markdown",
      "source": [
        "**Example Question After Preprocessing:**"
      ],
      "metadata": {
        "id": "sz441GRaaIki"
      }
    },
    {
      "cell_type": "code",
      "execution_count": 714,
      "metadata": {
        "colab": {
          "base_uri": "https://localhost:8080/",
          "height": 70
        },
        "outputId": "b57ee3d8-6841-4fdb-b396-86391d90e6cd",
        "id": "ALsMS2UyaQn8"
      },
      "outputs": [
        {
          "output_type": "execute_result",
          "data": {
            "text/plain": [
              "'featur correl 10 pts correl featur health 4 point calcul correl featur dataset highlight strong correl target variabl plot result heatmap featur select 3 point select subset featur like strong predictor justifi choic base comput correl hypothet driver featur 3 point propos two hypothet featur could enhanc model predict accuraci explain might deriv expect impact show result correl target variabl note get get help gpt'"
            ],
            "application/vnd.google.colaboratory.intrinsic+json": {
              "type": "string"
            }
          },
          "metadata": {},
          "execution_count": 714
        }
      ],
      "source": [
        "questions[4]"
      ]
    },
    {
      "cell_type": "markdown",
      "source": [
        "### **Prompt Matching**\n",
        "\n",
        "In our project, we have implemented a process for matching prompts with questions, aiming to establish correlations between user prompts and specific questions. This matching process involves techniques such as comparing prompt similarity to questions using methods like cosine similarity."
      ],
      "metadata": {
        "id": "E8XJW8GjaWsc"
      }
    },
    {
      "cell_type": "code",
      "execution_count": 715,
      "metadata": {
        "id": "Zws5vPioafjP"
      },
      "outputs": [],
      "source": [
        "prompts = []\n",
        "code2prompts = defaultdict(list)\n",
        "for code , convos in code2convos.items():\n",
        "    user_prompts = []\n",
        "    for conv in convos:\n",
        "        if conv[\"role\"] == \"user\":\n",
        "            prompts.append(conv[\"text\"])\n",
        "            user_prompts.append(conv[\"text\"])\n",
        "    code2prompts[code] = user_prompts"
      ]
    },
    {
      "cell_type": "code",
      "execution_count": 716,
      "metadata": {
        "id": "PnQHYsgfai5b"
      },
      "outputs": [],
      "source": [
        "vectorizer = TfidfVectorizer()\n",
        "vectorizer = vectorizer.fit(prompts + questions)"
      ]
    },
    {
      "cell_type": "code",
      "execution_count": 717,
      "metadata": {
        "colab": {
          "base_uri": "https://localhost:8080/",
          "height": 161
        },
        "outputId": "869a7509-5cbe-4288-ed23-acaab09be320",
        "id": "cRBku1iBalYA"
      },
      "outputs": [
        {
          "output_type": "execute_result",
          "data": {
            "text/plain": [
              "    00  0000196  0000282  0000284  0000360  0000469  0000750  0000886  \\\n",
              "0  0.0      0.0      0.0      0.0      0.0      0.0      0.0      0.0   \n",
              "1  0.0      0.0      0.0      0.0      0.0      0.0      0.0      0.0   \n",
              "\n",
              "   0000991  0001  ...  ytrainxtrainrootsplitindex  ytreeapplyx  yvalu  zaman  \\\n",
              "0      0.0   0.0  ...                         0.0          0.0    0.0    0.0   \n",
              "1      0.0   0.0  ...                         0.0          0.0    0.0    0.0   \n",
              "\n",
              "   zdm  zero  zerodivisionerror  zeroth  zipclassnam  \\\n",
              "0  0.0   0.0                0.0     0.0          0.0   \n",
              "1  0.0   0.0                0.0     0.0          0.0   \n",
              "\n",
              "   zipnpuniquechildindicesaftersplit  \n",
              "0                                0.0  \n",
              "1                                0.0  \n",
              "\n",
              "[2 rows x 6174 columns]"
            ],
            "text/html": [
              "\n",
              "  <div id=\"df-a818c1f1-9c93-4fb2-b1fa-d089b778c315\" class=\"colab-df-container\">\n",
              "    <div>\n",
              "<style scoped>\n",
              "    .dataframe tbody tr th:only-of-type {\n",
              "        vertical-align: middle;\n",
              "    }\n",
              "\n",
              "    .dataframe tbody tr th {\n",
              "        vertical-align: top;\n",
              "    }\n",
              "\n",
              "    .dataframe thead th {\n",
              "        text-align: right;\n",
              "    }\n",
              "</style>\n",
              "<table border=\"1\" class=\"dataframe\">\n",
              "  <thead>\n",
              "    <tr style=\"text-align: right;\">\n",
              "      <th></th>\n",
              "      <th>00</th>\n",
              "      <th>0000196</th>\n",
              "      <th>0000282</th>\n",
              "      <th>0000284</th>\n",
              "      <th>0000360</th>\n",
              "      <th>0000469</th>\n",
              "      <th>0000750</th>\n",
              "      <th>0000886</th>\n",
              "      <th>0000991</th>\n",
              "      <th>0001</th>\n",
              "      <th>...</th>\n",
              "      <th>ytrainxtrainrootsplitindex</th>\n",
              "      <th>ytreeapplyx</th>\n",
              "      <th>yvalu</th>\n",
              "      <th>zaman</th>\n",
              "      <th>zdm</th>\n",
              "      <th>zero</th>\n",
              "      <th>zerodivisionerror</th>\n",
              "      <th>zeroth</th>\n",
              "      <th>zipclassnam</th>\n",
              "      <th>zipnpuniquechildindicesaftersplit</th>\n",
              "    </tr>\n",
              "  </thead>\n",
              "  <tbody>\n",
              "    <tr>\n",
              "      <th>0</th>\n",
              "      <td>0.0</td>\n",
              "      <td>0.0</td>\n",
              "      <td>0.0</td>\n",
              "      <td>0.0</td>\n",
              "      <td>0.0</td>\n",
              "      <td>0.0</td>\n",
              "      <td>0.0</td>\n",
              "      <td>0.0</td>\n",
              "      <td>0.0</td>\n",
              "      <td>0.0</td>\n",
              "      <td>...</td>\n",
              "      <td>0.0</td>\n",
              "      <td>0.0</td>\n",
              "      <td>0.0</td>\n",
              "      <td>0.0</td>\n",
              "      <td>0.0</td>\n",
              "      <td>0.0</td>\n",
              "      <td>0.0</td>\n",
              "      <td>0.0</td>\n",
              "      <td>0.0</td>\n",
              "      <td>0.0</td>\n",
              "    </tr>\n",
              "    <tr>\n",
              "      <th>1</th>\n",
              "      <td>0.0</td>\n",
              "      <td>0.0</td>\n",
              "      <td>0.0</td>\n",
              "      <td>0.0</td>\n",
              "      <td>0.0</td>\n",
              "      <td>0.0</td>\n",
              "      <td>0.0</td>\n",
              "      <td>0.0</td>\n",
              "      <td>0.0</td>\n",
              "      <td>0.0</td>\n",
              "      <td>...</td>\n",
              "      <td>0.0</td>\n",
              "      <td>0.0</td>\n",
              "      <td>0.0</td>\n",
              "      <td>0.0</td>\n",
              "      <td>0.0</td>\n",
              "      <td>0.0</td>\n",
              "      <td>0.0</td>\n",
              "      <td>0.0</td>\n",
              "      <td>0.0</td>\n",
              "      <td>0.0</td>\n",
              "    </tr>\n",
              "  </tbody>\n",
              "</table>\n",
              "<p>2 rows × 6174 columns</p>\n",
              "</div>\n",
              "    <div class=\"colab-df-buttons\">\n",
              "\n",
              "  <div class=\"colab-df-container\">\n",
              "    <button class=\"colab-df-convert\" onclick=\"convertToInteractive('df-a818c1f1-9c93-4fb2-b1fa-d089b778c315')\"\n",
              "            title=\"Convert this dataframe to an interactive table.\"\n",
              "            style=\"display:none;\">\n",
              "\n",
              "  <svg xmlns=\"http://www.w3.org/2000/svg\" height=\"24px\" viewBox=\"0 -960 960 960\">\n",
              "    <path d=\"M120-120v-720h720v720H120Zm60-500h600v-160H180v160Zm220 220h160v-160H400v160Zm0 220h160v-160H400v160ZM180-400h160v-160H180v160Zm440 0h160v-160H620v160ZM180-180h160v-160H180v160Zm440 0h160v-160H620v160Z\"/>\n",
              "  </svg>\n",
              "    </button>\n",
              "\n",
              "  <style>\n",
              "    .colab-df-container {\n",
              "      display:flex;\n",
              "      gap: 12px;\n",
              "    }\n",
              "\n",
              "    .colab-df-convert {\n",
              "      background-color: #E8F0FE;\n",
              "      border: none;\n",
              "      border-radius: 50%;\n",
              "      cursor: pointer;\n",
              "      display: none;\n",
              "      fill: #1967D2;\n",
              "      height: 32px;\n",
              "      padding: 0 0 0 0;\n",
              "      width: 32px;\n",
              "    }\n",
              "\n",
              "    .colab-df-convert:hover {\n",
              "      background-color: #E2EBFA;\n",
              "      box-shadow: 0px 1px 2px rgba(60, 64, 67, 0.3), 0px 1px 3px 1px rgba(60, 64, 67, 0.15);\n",
              "      fill: #174EA6;\n",
              "    }\n",
              "\n",
              "    .colab-df-buttons div {\n",
              "      margin-bottom: 4px;\n",
              "    }\n",
              "\n",
              "    [theme=dark] .colab-df-convert {\n",
              "      background-color: #3B4455;\n",
              "      fill: #D2E3FC;\n",
              "    }\n",
              "\n",
              "    [theme=dark] .colab-df-convert:hover {\n",
              "      background-color: #434B5C;\n",
              "      box-shadow: 0px 1px 3px 1px rgba(0, 0, 0, 0.15);\n",
              "      filter: drop-shadow(0px 1px 2px rgba(0, 0, 0, 0.3));\n",
              "      fill: #FFFFFF;\n",
              "    }\n",
              "  </style>\n",
              "\n",
              "    <script>\n",
              "      const buttonEl =\n",
              "        document.querySelector('#df-a818c1f1-9c93-4fb2-b1fa-d089b778c315 button.colab-df-convert');\n",
              "      buttonEl.style.display =\n",
              "        google.colab.kernel.accessAllowed ? 'block' : 'none';\n",
              "\n",
              "      async function convertToInteractive(key) {\n",
              "        const element = document.querySelector('#df-a818c1f1-9c93-4fb2-b1fa-d089b778c315');\n",
              "        const dataTable =\n",
              "          await google.colab.kernel.invokeFunction('convertToInteractive',\n",
              "                                                    [key], {});\n",
              "        if (!dataTable) return;\n",
              "\n",
              "        const docLinkHtml = 'Like what you see? Visit the ' +\n",
              "          '<a target=\"_blank\" href=https://colab.research.google.com/notebooks/data_table.ipynb>data table notebook</a>'\n",
              "          + ' to learn more about interactive tables.';\n",
              "        element.innerHTML = '';\n",
              "        dataTable['output_type'] = 'display_data';\n",
              "        await google.colab.output.renderOutput(dataTable, element);\n",
              "        const docLink = document.createElement('div');\n",
              "        docLink.innerHTML = docLinkHtml;\n",
              "        element.appendChild(docLink);\n",
              "      }\n",
              "    </script>\n",
              "  </div>\n",
              "\n",
              "\n",
              "<div id=\"df-0698d383-131f-4215-b1eb-36811d0e69f3\">\n",
              "  <button class=\"colab-df-quickchart\" onclick=\"quickchart('df-0698d383-131f-4215-b1eb-36811d0e69f3')\"\n",
              "            title=\"Suggest charts\"\n",
              "            style=\"display:none;\">\n",
              "\n",
              "<svg xmlns=\"http://www.w3.org/2000/svg\" height=\"24px\"viewBox=\"0 0 24 24\"\n",
              "     width=\"24px\">\n",
              "    <g>\n",
              "        <path d=\"M19 3H5c-1.1 0-2 .9-2 2v14c0 1.1.9 2 2 2h14c1.1 0 2-.9 2-2V5c0-1.1-.9-2-2-2zM9 17H7v-7h2v7zm4 0h-2V7h2v10zm4 0h-2v-4h2v4z\"/>\n",
              "    </g>\n",
              "</svg>\n",
              "  </button>\n",
              "\n",
              "<style>\n",
              "  .colab-df-quickchart {\n",
              "      --bg-color: #E8F0FE;\n",
              "      --fill-color: #1967D2;\n",
              "      --hover-bg-color: #E2EBFA;\n",
              "      --hover-fill-color: #174EA6;\n",
              "      --disabled-fill-color: #AAA;\n",
              "      --disabled-bg-color: #DDD;\n",
              "  }\n",
              "\n",
              "  [theme=dark] .colab-df-quickchart {\n",
              "      --bg-color: #3B4455;\n",
              "      --fill-color: #D2E3FC;\n",
              "      --hover-bg-color: #434B5C;\n",
              "      --hover-fill-color: #FFFFFF;\n",
              "      --disabled-bg-color: #3B4455;\n",
              "      --disabled-fill-color: #666;\n",
              "  }\n",
              "\n",
              "  .colab-df-quickchart {\n",
              "    background-color: var(--bg-color);\n",
              "    border: none;\n",
              "    border-radius: 50%;\n",
              "    cursor: pointer;\n",
              "    display: none;\n",
              "    fill: var(--fill-color);\n",
              "    height: 32px;\n",
              "    padding: 0;\n",
              "    width: 32px;\n",
              "  }\n",
              "\n",
              "  .colab-df-quickchart:hover {\n",
              "    background-color: var(--hover-bg-color);\n",
              "    box-shadow: 0 1px 2px rgba(60, 64, 67, 0.3), 0 1px 3px 1px rgba(60, 64, 67, 0.15);\n",
              "    fill: var(--button-hover-fill-color);\n",
              "  }\n",
              "\n",
              "  .colab-df-quickchart-complete:disabled,\n",
              "  .colab-df-quickchart-complete:disabled:hover {\n",
              "    background-color: var(--disabled-bg-color);\n",
              "    fill: var(--disabled-fill-color);\n",
              "    box-shadow: none;\n",
              "  }\n",
              "\n",
              "  .colab-df-spinner {\n",
              "    border: 2px solid var(--fill-color);\n",
              "    border-color: transparent;\n",
              "    border-bottom-color: var(--fill-color);\n",
              "    animation:\n",
              "      spin 1s steps(1) infinite;\n",
              "  }\n",
              "\n",
              "  @keyframes spin {\n",
              "    0% {\n",
              "      border-color: transparent;\n",
              "      border-bottom-color: var(--fill-color);\n",
              "      border-left-color: var(--fill-color);\n",
              "    }\n",
              "    20% {\n",
              "      border-color: transparent;\n",
              "      border-left-color: var(--fill-color);\n",
              "      border-top-color: var(--fill-color);\n",
              "    }\n",
              "    30% {\n",
              "      border-color: transparent;\n",
              "      border-left-color: var(--fill-color);\n",
              "      border-top-color: var(--fill-color);\n",
              "      border-right-color: var(--fill-color);\n",
              "    }\n",
              "    40% {\n",
              "      border-color: transparent;\n",
              "      border-right-color: var(--fill-color);\n",
              "      border-top-color: var(--fill-color);\n",
              "    }\n",
              "    60% {\n",
              "      border-color: transparent;\n",
              "      border-right-color: var(--fill-color);\n",
              "    }\n",
              "    80% {\n",
              "      border-color: transparent;\n",
              "      border-right-color: var(--fill-color);\n",
              "      border-bottom-color: var(--fill-color);\n",
              "    }\n",
              "    90% {\n",
              "      border-color: transparent;\n",
              "      border-bottom-color: var(--fill-color);\n",
              "    }\n",
              "  }\n",
              "</style>\n",
              "\n",
              "  <script>\n",
              "    async function quickchart(key) {\n",
              "      const quickchartButtonEl =\n",
              "        document.querySelector('#' + key + ' button');\n",
              "      quickchartButtonEl.disabled = true;  // To prevent multiple clicks.\n",
              "      quickchartButtonEl.classList.add('colab-df-spinner');\n",
              "      try {\n",
              "        const charts = await google.colab.kernel.invokeFunction(\n",
              "            'suggestCharts', [key], {});\n",
              "      } catch (error) {\n",
              "        console.error('Error during call to suggestCharts:', error);\n",
              "      }\n",
              "      quickchartButtonEl.classList.remove('colab-df-spinner');\n",
              "      quickchartButtonEl.classList.add('colab-df-quickchart-complete');\n",
              "    }\n",
              "    (() => {\n",
              "      let quickchartButtonEl =\n",
              "        document.querySelector('#df-0698d383-131f-4215-b1eb-36811d0e69f3 button');\n",
              "      quickchartButtonEl.style.display =\n",
              "        google.colab.kernel.accessAllowed ? 'block' : 'none';\n",
              "    })();\n",
              "  </script>\n",
              "</div>\n",
              "    </div>\n",
              "  </div>\n"
            ]
          },
          "metadata": {},
          "execution_count": 717
        }
      ],
      "source": [
        "questions_TF_IDF = pd.DataFrame(vectorizer.transform(questions).toarray(), columns=vectorizer.get_feature_names_out())\n",
        "questions_TF_IDF.head(2)"
      ]
    },
    {
      "cell_type": "code",
      "execution_count": 718,
      "metadata": {
        "colab": {
          "base_uri": "https://localhost:8080/"
        },
        "outputId": "37cb2c6c-0d78-4058-875d-f190a838e153",
        "id": "UFTkgV8ranyD"
      },
      "outputs": [
        {
          "output_type": "stream",
          "name": "stdout",
          "text": [
            "139235c7-736c-4237-92f0-92e8c116832c.html\n",
            "668ad17e-0240-49f7-b5a7-d22e502554c6.html\n",
            "b0640e51-6879-40cb-a4f5-329f952ef99d.html\n",
            "da6b70d5-29f6-491a-ad46-037c77067128.html\n"
          ]
        }
      ],
      "source": [
        "code2prompts_tf_idf = dict()\n",
        "for code, user_prompts in code2prompts.items():\n",
        "    if len(user_prompts) == 0:\n",
        "        print(code+\".html\")\n",
        "        continue\n",
        "    prompts_TF_IDF = pd.DataFrame(vectorizer.transform(user_prompts).toarray(), columns=vectorizer.get_feature_names_out())\n",
        "    code2prompts_tf_idf[code] = prompts_TF_IDF"
      ]
    },
    {
      "cell_type": "code",
      "execution_count": 719,
      "metadata": {
        "id": "QFYr35d8askL"
      },
      "outputs": [],
      "source": [
        "code2cosine = dict()\n",
        "for code, user_prompts_tf_idf in code2prompts_tf_idf.items():\n",
        "    code2cosine[code] = pd.DataFrame(cosine_similarity(questions_TF_IDF,user_prompts_tf_idf))"
      ]
    },
    {
      "cell_type": "code",
      "execution_count": 720,
      "metadata": {
        "id": "UE42V1LJavAU"
      },
      "outputs": [],
      "source": [
        "code2questionmapping = dict()\n",
        "for code, cosine_scores in code2cosine.items():\n",
        "    code2questionmapping[code] = code2cosine[code].max(axis=1).tolist()\n",
        "\n",
        "question_mapping_scores = pd.DataFrame(code2questionmapping).T\n",
        "question_mapping_scores.reset_index(inplace=True)\n",
        "question_mapping_scores.rename(columns={i: f\"Q_{i}\" for i in range(len(questions))}, inplace=True)\n",
        "question_mapping_scores.rename(columns={\"index\" : \"code\"}, inplace=True)"
      ]
    },
    {
      "cell_type": "markdown",
      "source": [
        "**Handling Edge Cases**"
      ],
      "metadata": {
        "id": "CgjtMXfsbfJY"
      }
    },
    {
      "cell_type": "markdown",
      "source": [
        "In our project, handling edge cases is crucial for ensuring the robustness and accuracy of our machine learning model. These edge cases, such as instances where a student has never used ChatGPT for a specific question resulting in a conversation value of **0.0**, or where a student has copy-pasted a question leading to a high similarity score of **1.0**, require special attention. To address this, we have implemented a strategy to replace these extreme values with the mean of the respective column. By doing so, we aim to create a more balanced and representative dataset."
      ],
      "metadata": {
        "id": "c2AGq32__k2m"
      }
    },
    {
      "cell_type": "code",
      "source": [
        "import numpy as np\n",
        "\n",
        "for column in question_mapping_scores.columns:\n",
        "    # Convert the column to numeric\n",
        "    numeric_column = pd.to_numeric(question_mapping_scores[column], errors='coerce')\n",
        "\n",
        "    # Calculate the average of the numeric values in the column\n",
        "    column_average = np.nanmean(numeric_column)\n",
        "\n",
        "    # Replace values higher than 1.0 with the column average\n",
        "    question_mapping_scores[column] = np.where(numeric_column >= 1.0, column_average, question_mapping_scores[column])"
      ],
      "metadata": {
        "colab": {
          "base_uri": "https://localhost:8080/"
        },
        "id": "eNY4v7eNDKcV",
        "outputId": "a22b8ff5-7123-451d-b476-93e4819ace12"
      },
      "execution_count": 721,
      "outputs": [
        {
          "output_type": "stream",
          "name": "stderr",
          "text": [
            "<ipython-input-721-1404a2b0353d>:8: RuntimeWarning: Mean of empty slice\n",
            "  column_average = np.nanmean(numeric_column)\n"
          ]
        }
      ]
    },
    {
      "cell_type": "code",
      "source": [
        "import numpy as np\n",
        "\n",
        "# Replace 0.0 with NaN for easier handling\n",
        "question_mapping_scores.replace(0.0, np.nan, inplace=True)\n",
        "\n",
        "# Calculate the column-wise average (ignoring NaN values)\n",
        "column_averages = question_mapping_scores.mean()\n",
        "\n",
        "# Replace NaN values with the calculated averages\n",
        "question_mapping_scores.fillna(column_averages, inplace=True)\n",
        "\n",
        "# Replace NaN with 0.0 if there are any remaining NaN values\n",
        "question_mapping_scores.fillna(0.0, inplace=True)"
      ],
      "metadata": {
        "colab": {
          "base_uri": "https://localhost:8080/"
        },
        "id": "cLXJ4CSSnD0z",
        "outputId": "156ffc71-1630-4d1e-cefa-a2a865345d28"
      },
      "execution_count": 722,
      "outputs": [
        {
          "output_type": "stream",
          "name": "stderr",
          "text": [
            "<ipython-input-722-ee013d67baad>:7: FutureWarning: The default value of numeric_only in DataFrame.mean is deprecated. In a future version, it will default to False. In addition, specifying 'numeric_only=None' is deprecated. Select only valid columns or specify the value of numeric_only to silence this warning.\n",
            "  column_averages = question_mapping_scores.mean()\n"
          ]
        }
      ]
    },
    {
      "cell_type": "markdown",
      "source": [
        "**Resulted Ratio Table**"
      ],
      "metadata": {
        "id": "cFsSByLqvATp"
      }
    },
    {
      "cell_type": "code",
      "source": [
        "question_mapping_scores.head(5)"
      ],
      "metadata": {
        "colab": {
          "base_uri": "https://localhost:8080/",
          "height": 206
        },
        "id": "8ta4dbBqtThE",
        "outputId": "6a997207-900c-480b-b25b-3e8606dccca4"
      },
      "execution_count": 723,
      "outputs": [
        {
          "output_type": "execute_result",
          "data": {
            "text/plain": [
              "                                   code       Q_0       Q_1       Q_2  \\\n",
              "0  0031c86e-81f4-4eef-9e0e-28037abf9883  0.111065  0.281578  0.618961   \n",
              "1  0225686d-b825-4cac-8691-3a3a5343df2b  0.164216  0.802719  0.756955   \n",
              "2  041f950b-c013-409a-a642-cffff60b9d4b  0.089521  0.247172  0.502018   \n",
              "3  04f91058-d0f8-4324-83b2-19c671f433dc  0.059109  0.177408  0.171692   \n",
              "4  089eb66d-4c3a-4f58-b98f-a3774a2efb34  0.357090  0.618947  0.770297   \n",
              "\n",
              "        Q_3       Q_4       Q_5       Q_6       Q_7       Q_8  \n",
              "0  0.432243  0.510732  0.551559  0.139785  0.181310  0.123534  \n",
              "1  0.849414  0.614525  0.989534  0.852307  0.636646  0.578007  \n",
              "2  0.329575  0.627776  0.399371  0.445345  0.481055  0.268303  \n",
              "3  0.394055  0.519166  0.222054  0.129287  0.240920  0.361381  \n",
              "4  0.659338  0.745080  0.924457  0.601452  0.937321  0.499306  "
            ],
            "text/html": [
              "\n",
              "  <div id=\"df-c0aa2244-69fd-4ba8-9b36-ef92dbd28468\" class=\"colab-df-container\">\n",
              "    <div>\n",
              "<style scoped>\n",
              "    .dataframe tbody tr th:only-of-type {\n",
              "        vertical-align: middle;\n",
              "    }\n",
              "\n",
              "    .dataframe tbody tr th {\n",
              "        vertical-align: top;\n",
              "    }\n",
              "\n",
              "    .dataframe thead th {\n",
              "        text-align: right;\n",
              "    }\n",
              "</style>\n",
              "<table border=\"1\" class=\"dataframe\">\n",
              "  <thead>\n",
              "    <tr style=\"text-align: right;\">\n",
              "      <th></th>\n",
              "      <th>code</th>\n",
              "      <th>Q_0</th>\n",
              "      <th>Q_1</th>\n",
              "      <th>Q_2</th>\n",
              "      <th>Q_3</th>\n",
              "      <th>Q_4</th>\n",
              "      <th>Q_5</th>\n",
              "      <th>Q_6</th>\n",
              "      <th>Q_7</th>\n",
              "      <th>Q_8</th>\n",
              "    </tr>\n",
              "  </thead>\n",
              "  <tbody>\n",
              "    <tr>\n",
              "      <th>0</th>\n",
              "      <td>0031c86e-81f4-4eef-9e0e-28037abf9883</td>\n",
              "      <td>0.111065</td>\n",
              "      <td>0.281578</td>\n",
              "      <td>0.618961</td>\n",
              "      <td>0.432243</td>\n",
              "      <td>0.510732</td>\n",
              "      <td>0.551559</td>\n",
              "      <td>0.139785</td>\n",
              "      <td>0.181310</td>\n",
              "      <td>0.123534</td>\n",
              "    </tr>\n",
              "    <tr>\n",
              "      <th>1</th>\n",
              "      <td>0225686d-b825-4cac-8691-3a3a5343df2b</td>\n",
              "      <td>0.164216</td>\n",
              "      <td>0.802719</td>\n",
              "      <td>0.756955</td>\n",
              "      <td>0.849414</td>\n",
              "      <td>0.614525</td>\n",
              "      <td>0.989534</td>\n",
              "      <td>0.852307</td>\n",
              "      <td>0.636646</td>\n",
              "      <td>0.578007</td>\n",
              "    </tr>\n",
              "    <tr>\n",
              "      <th>2</th>\n",
              "      <td>041f950b-c013-409a-a642-cffff60b9d4b</td>\n",
              "      <td>0.089521</td>\n",
              "      <td>0.247172</td>\n",
              "      <td>0.502018</td>\n",
              "      <td>0.329575</td>\n",
              "      <td>0.627776</td>\n",
              "      <td>0.399371</td>\n",
              "      <td>0.445345</td>\n",
              "      <td>0.481055</td>\n",
              "      <td>0.268303</td>\n",
              "    </tr>\n",
              "    <tr>\n",
              "      <th>3</th>\n",
              "      <td>04f91058-d0f8-4324-83b2-19c671f433dc</td>\n",
              "      <td>0.059109</td>\n",
              "      <td>0.177408</td>\n",
              "      <td>0.171692</td>\n",
              "      <td>0.394055</td>\n",
              "      <td>0.519166</td>\n",
              "      <td>0.222054</td>\n",
              "      <td>0.129287</td>\n",
              "      <td>0.240920</td>\n",
              "      <td>0.361381</td>\n",
              "    </tr>\n",
              "    <tr>\n",
              "      <th>4</th>\n",
              "      <td>089eb66d-4c3a-4f58-b98f-a3774a2efb34</td>\n",
              "      <td>0.357090</td>\n",
              "      <td>0.618947</td>\n",
              "      <td>0.770297</td>\n",
              "      <td>0.659338</td>\n",
              "      <td>0.745080</td>\n",
              "      <td>0.924457</td>\n",
              "      <td>0.601452</td>\n",
              "      <td>0.937321</td>\n",
              "      <td>0.499306</td>\n",
              "    </tr>\n",
              "  </tbody>\n",
              "</table>\n",
              "</div>\n",
              "    <div class=\"colab-df-buttons\">\n",
              "\n",
              "  <div class=\"colab-df-container\">\n",
              "    <button class=\"colab-df-convert\" onclick=\"convertToInteractive('df-c0aa2244-69fd-4ba8-9b36-ef92dbd28468')\"\n",
              "            title=\"Convert this dataframe to an interactive table.\"\n",
              "            style=\"display:none;\">\n",
              "\n",
              "  <svg xmlns=\"http://www.w3.org/2000/svg\" height=\"24px\" viewBox=\"0 -960 960 960\">\n",
              "    <path d=\"M120-120v-720h720v720H120Zm60-500h600v-160H180v160Zm220 220h160v-160H400v160Zm0 220h160v-160H400v160ZM180-400h160v-160H180v160Zm440 0h160v-160H620v160ZM180-180h160v-160H180v160Zm440 0h160v-160H620v160Z\"/>\n",
              "  </svg>\n",
              "    </button>\n",
              "\n",
              "  <style>\n",
              "    .colab-df-container {\n",
              "      display:flex;\n",
              "      gap: 12px;\n",
              "    }\n",
              "\n",
              "    .colab-df-convert {\n",
              "      background-color: #E8F0FE;\n",
              "      border: none;\n",
              "      border-radius: 50%;\n",
              "      cursor: pointer;\n",
              "      display: none;\n",
              "      fill: #1967D2;\n",
              "      height: 32px;\n",
              "      padding: 0 0 0 0;\n",
              "      width: 32px;\n",
              "    }\n",
              "\n",
              "    .colab-df-convert:hover {\n",
              "      background-color: #E2EBFA;\n",
              "      box-shadow: 0px 1px 2px rgba(60, 64, 67, 0.3), 0px 1px 3px 1px rgba(60, 64, 67, 0.15);\n",
              "      fill: #174EA6;\n",
              "    }\n",
              "\n",
              "    .colab-df-buttons div {\n",
              "      margin-bottom: 4px;\n",
              "    }\n",
              "\n",
              "    [theme=dark] .colab-df-convert {\n",
              "      background-color: #3B4455;\n",
              "      fill: #D2E3FC;\n",
              "    }\n",
              "\n",
              "    [theme=dark] .colab-df-convert:hover {\n",
              "      background-color: #434B5C;\n",
              "      box-shadow: 0px 1px 3px 1px rgba(0, 0, 0, 0.15);\n",
              "      filter: drop-shadow(0px 1px 2px rgba(0, 0, 0, 0.3));\n",
              "      fill: #FFFFFF;\n",
              "    }\n",
              "  </style>\n",
              "\n",
              "    <script>\n",
              "      const buttonEl =\n",
              "        document.querySelector('#df-c0aa2244-69fd-4ba8-9b36-ef92dbd28468 button.colab-df-convert');\n",
              "      buttonEl.style.display =\n",
              "        google.colab.kernel.accessAllowed ? 'block' : 'none';\n",
              "\n",
              "      async function convertToInteractive(key) {\n",
              "        const element = document.querySelector('#df-c0aa2244-69fd-4ba8-9b36-ef92dbd28468');\n",
              "        const dataTable =\n",
              "          await google.colab.kernel.invokeFunction('convertToInteractive',\n",
              "                                                    [key], {});\n",
              "        if (!dataTable) return;\n",
              "\n",
              "        const docLinkHtml = 'Like what you see? Visit the ' +\n",
              "          '<a target=\"_blank\" href=https://colab.research.google.com/notebooks/data_table.ipynb>data table notebook</a>'\n",
              "          + ' to learn more about interactive tables.';\n",
              "        element.innerHTML = '';\n",
              "        dataTable['output_type'] = 'display_data';\n",
              "        await google.colab.output.renderOutput(dataTable, element);\n",
              "        const docLink = document.createElement('div');\n",
              "        docLink.innerHTML = docLinkHtml;\n",
              "        element.appendChild(docLink);\n",
              "      }\n",
              "    </script>\n",
              "  </div>\n",
              "\n",
              "\n",
              "<div id=\"df-e678db87-a75c-402a-9661-8e15cb81ad8b\">\n",
              "  <button class=\"colab-df-quickchart\" onclick=\"quickchart('df-e678db87-a75c-402a-9661-8e15cb81ad8b')\"\n",
              "            title=\"Suggest charts\"\n",
              "            style=\"display:none;\">\n",
              "\n",
              "<svg xmlns=\"http://www.w3.org/2000/svg\" height=\"24px\"viewBox=\"0 0 24 24\"\n",
              "     width=\"24px\">\n",
              "    <g>\n",
              "        <path d=\"M19 3H5c-1.1 0-2 .9-2 2v14c0 1.1.9 2 2 2h14c1.1 0 2-.9 2-2V5c0-1.1-.9-2-2-2zM9 17H7v-7h2v7zm4 0h-2V7h2v10zm4 0h-2v-4h2v4z\"/>\n",
              "    </g>\n",
              "</svg>\n",
              "  </button>\n",
              "\n",
              "<style>\n",
              "  .colab-df-quickchart {\n",
              "      --bg-color: #E8F0FE;\n",
              "      --fill-color: #1967D2;\n",
              "      --hover-bg-color: #E2EBFA;\n",
              "      --hover-fill-color: #174EA6;\n",
              "      --disabled-fill-color: #AAA;\n",
              "      --disabled-bg-color: #DDD;\n",
              "  }\n",
              "\n",
              "  [theme=dark] .colab-df-quickchart {\n",
              "      --bg-color: #3B4455;\n",
              "      --fill-color: #D2E3FC;\n",
              "      --hover-bg-color: #434B5C;\n",
              "      --hover-fill-color: #FFFFFF;\n",
              "      --disabled-bg-color: #3B4455;\n",
              "      --disabled-fill-color: #666;\n",
              "  }\n",
              "\n",
              "  .colab-df-quickchart {\n",
              "    background-color: var(--bg-color);\n",
              "    border: none;\n",
              "    border-radius: 50%;\n",
              "    cursor: pointer;\n",
              "    display: none;\n",
              "    fill: var(--fill-color);\n",
              "    height: 32px;\n",
              "    padding: 0;\n",
              "    width: 32px;\n",
              "  }\n",
              "\n",
              "  .colab-df-quickchart:hover {\n",
              "    background-color: var(--hover-bg-color);\n",
              "    box-shadow: 0 1px 2px rgba(60, 64, 67, 0.3), 0 1px 3px 1px rgba(60, 64, 67, 0.15);\n",
              "    fill: var(--button-hover-fill-color);\n",
              "  }\n",
              "\n",
              "  .colab-df-quickchart-complete:disabled,\n",
              "  .colab-df-quickchart-complete:disabled:hover {\n",
              "    background-color: var(--disabled-bg-color);\n",
              "    fill: var(--disabled-fill-color);\n",
              "    box-shadow: none;\n",
              "  }\n",
              "\n",
              "  .colab-df-spinner {\n",
              "    border: 2px solid var(--fill-color);\n",
              "    border-color: transparent;\n",
              "    border-bottom-color: var(--fill-color);\n",
              "    animation:\n",
              "      spin 1s steps(1) infinite;\n",
              "  }\n",
              "\n",
              "  @keyframes spin {\n",
              "    0% {\n",
              "      border-color: transparent;\n",
              "      border-bottom-color: var(--fill-color);\n",
              "      border-left-color: var(--fill-color);\n",
              "    }\n",
              "    20% {\n",
              "      border-color: transparent;\n",
              "      border-left-color: var(--fill-color);\n",
              "      border-top-color: var(--fill-color);\n",
              "    }\n",
              "    30% {\n",
              "      border-color: transparent;\n",
              "      border-left-color: var(--fill-color);\n",
              "      border-top-color: var(--fill-color);\n",
              "      border-right-color: var(--fill-color);\n",
              "    }\n",
              "    40% {\n",
              "      border-color: transparent;\n",
              "      border-right-color: var(--fill-color);\n",
              "      border-top-color: var(--fill-color);\n",
              "    }\n",
              "    60% {\n",
              "      border-color: transparent;\n",
              "      border-right-color: var(--fill-color);\n",
              "    }\n",
              "    80% {\n",
              "      border-color: transparent;\n",
              "      border-right-color: var(--fill-color);\n",
              "      border-bottom-color: var(--fill-color);\n",
              "    }\n",
              "    90% {\n",
              "      border-color: transparent;\n",
              "      border-bottom-color: var(--fill-color);\n",
              "    }\n",
              "  }\n",
              "</style>\n",
              "\n",
              "  <script>\n",
              "    async function quickchart(key) {\n",
              "      const quickchartButtonEl =\n",
              "        document.querySelector('#' + key + ' button');\n",
              "      quickchartButtonEl.disabled = true;  // To prevent multiple clicks.\n",
              "      quickchartButtonEl.classList.add('colab-df-spinner');\n",
              "      try {\n",
              "        const charts = await google.colab.kernel.invokeFunction(\n",
              "            'suggestCharts', [key], {});\n",
              "      } catch (error) {\n",
              "        console.error('Error during call to suggestCharts:', error);\n",
              "      }\n",
              "      quickchartButtonEl.classList.remove('colab-df-spinner');\n",
              "      quickchartButtonEl.classList.add('colab-df-quickchart-complete');\n",
              "    }\n",
              "    (() => {\n",
              "      let quickchartButtonEl =\n",
              "        document.querySelector('#df-e678db87-a75c-402a-9661-8e15cb81ad8b button');\n",
              "      quickchartButtonEl.style.display =\n",
              "        google.colab.kernel.accessAllowed ? 'block' : 'none';\n",
              "    })();\n",
              "  </script>\n",
              "</div>\n",
              "    </div>\n",
              "  </div>\n"
            ]
          },
          "metadata": {},
          "execution_count": 723
        }
      ]
    },
    {
      "cell_type": "markdown",
      "source": [
        "### **Feature Engineering**\n",
        "\n",
        "Our feature engineering process involves the creation of several key features essential for our machine learning model. These features include the Number of Prompts User Asked, which reflects user engagement, the Average Length of User and Assistant Prompts, providing insight into the conversational dynamics, and the Ratio of Words Between User and Assistant, indicating the balance of interaction. Additionally, we conduct Sentiment Analysis to categorize prompts as positive, negative, or neutral, capturing emotional context. Moreover, we calculate the Number of Error Prompts from User to understand potential challenges faced. Finally, we consider the Conversation Length to gauge overall interaction duration."
      ],
      "metadata": {
        "id": "i6RZLG63b2DP"
      }
    },
    {
      "cell_type": "markdown",
      "source": [
        "**Number of Prompts User Asked**"
      ],
      "metadata": {
        "id": "fiySXcQJceBl"
      }
    },
    {
      "cell_type": "code",
      "source": [
        "question_mapping_scores['#UserPrompts'] = [len(code2prompts[code]) for code in question_mapping_scores['code']]"
      ],
      "metadata": {
        "id": "SDPzHYhRNaM6"
      },
      "execution_count": 724,
      "outputs": []
    },
    {
      "cell_type": "markdown",
      "source": [
        "**Average Length of User and Assistant Prompts**"
      ],
      "metadata": {
        "id": "PSp2sMhScirP"
      }
    },
    {
      "cell_type": "code",
      "source": [
        "# Calculate User Prompts Average Number of Characters\n",
        "user_prompts_avg_chars = []\n",
        "for code in question_mapping_scores['code']:\n",
        "    if code in code2prompts:  # Check if there are user prompts for the code\n",
        "        user_prompts = code2prompts[code]\n",
        "        user_prompts_avg_chars.append(sum(len(prompt) for prompt in user_prompts) / len(user_prompts))\n",
        "    else:\n",
        "        user_prompts_avg_chars.append(0)  # If there are no user prompts, set the average to 0\n",
        "\n",
        "# Calculate Assistant Prompts Average Number of Characters\n",
        "assistant_prompts_avg_chars = []\n",
        "for code in question_mapping_scores['code']:\n",
        "    if code in code2convos:  # Check if there are conversations for the code\n",
        "        convos = code2convos[code]\n",
        "        assistant_prompts = [conv['text'] for conv in convos if conv['role'] != 'user']\n",
        "        if assistant_prompts:  # Check if there are assistant prompts for the code\n",
        "            assistant_prompts_avg_chars.append(sum(len(prompt) for prompt in assistant_prompts) / len(assistant_prompts))\n",
        "        else:\n",
        "            assistant_prompts_avg_chars.append(0)  # If there are no assistant prompts, set the average to 0\n",
        "    else:\n",
        "        assistant_prompts_avg_chars.append(0)  # If there are no conversations for the code, set the average to 0\n",
        "\n",
        "question_mapping_scores['User_Prompts_Avg_Num_Chars'] = user_prompts_avg_chars\n",
        "question_mapping_scores['Assistant_Prompts_Avg_Num_Chars'] = assistant_prompts_avg_chars"
      ],
      "metadata": {
        "id": "Tn2klc0cOd9s"
      },
      "execution_count": 725,
      "outputs": []
    },
    {
      "cell_type": "markdown",
      "source": [
        "**Ratio of Words Between User and Assistant**"
      ],
      "metadata": {
        "id": "6KQVQPZhcxdw"
      }
    },
    {
      "cell_type": "code",
      "source": [
        "# Calculate Ratio of Words between User and Assistant\n",
        "ratio_user_to_assistant_words = []\n",
        "for code in question_mapping_scores['code']:\n",
        "    if code in code2prompts and code in code2convos:  # Check if there are user prompts and conversations for the code\n",
        "        user_words_count = sum(len(prompt.split()) for prompt in code2prompts[code])\n",
        "        assistant_words_count = sum(len(conv['text'].split()) for conv in code2convos[code] if conv['role'] != 'user')\n",
        "        if assistant_words_count == 0:  # Avoid division by zero\n",
        "            ratio_user_to_assistant_words.append(0)\n",
        "        else:\n",
        "            ratio_user_to_assistant_words.append(user_words_count / assistant_words_count)\n",
        "    else:\n",
        "        ratio_user_to_assistant_words.append(0)  # If there are no user prompts or conversations for the code, set the ratio to 0\n",
        "\n",
        "question_mapping_scores['User Assistant Ratio'] = ratio_user_to_assistant_words"
      ],
      "metadata": {
        "id": "JSqnWAf7PVaO"
      },
      "execution_count": 726,
      "outputs": []
    },
    {
      "cell_type": "markdown",
      "source": [
        "**Sentiment Analysis**"
      ],
      "metadata": {
        "id": "ucV7dEBH57be"
      }
    },
    {
      "cell_type": "code",
      "source": [
        "from textblob import TextBlob\n",
        "\n",
        "# Function to classify sentiment of a text\n",
        "def get_sentiment(text):\n",
        "    analysis = TextBlob(text)\n",
        "    if analysis.sentiment.polarity > 0:\n",
        "        return 'positive'\n",
        "    elif analysis.sentiment.polarity == 0:\n",
        "        return 'neutral'\n",
        "    else:\n",
        "        return 'negative'\n",
        "\n",
        "# Calculate sentiment for each conversation and count positive, negative, and neutral prompts\n",
        "sentiment_counts = {'positive': [], 'negative': [], 'neutral': []}\n",
        "for code in question_mapping_scores['code']:\n",
        "    if code in code2prompts and code in code2convos:  # Check if there are user prompts and conversations for the code\n",
        "        positive_count = 0\n",
        "        negative_count = 0\n",
        "        neutral_count = 0\n",
        "        for conv in code2convos[code]:\n",
        "            if conv['role'] == 'user':\n",
        "                sentiment = get_sentiment(conv['text'])\n",
        "                if sentiment == 'positive':\n",
        "                    positive_count += 1\n",
        "                elif sentiment == 'negative':\n",
        "                    negative_count += 1\n",
        "                else:\n",
        "                    neutral_count += 1\n",
        "        sentiment_counts['positive'].append(positive_count)\n",
        "        sentiment_counts['negative'].append(negative_count)\n",
        "        sentiment_counts['neutral'].append(neutral_count)\n",
        "    else:\n",
        "        sentiment_counts['positive'].append(0)\n",
        "        sentiment_counts['negative'].append(0)\n",
        "        sentiment_counts['neutral'].append(0)\n",
        "\n",
        "question_mapping_scores['Positive'] = sentiment_counts['positive']\n",
        "question_mapping_scores['Negative'] = sentiment_counts['negative']\n",
        "question_mapping_scores['Neutral'] = sentiment_counts['neutral']"
      ],
      "metadata": {
        "id": "v-rTZ6v54oWt"
      },
      "execution_count": 727,
      "outputs": []
    },
    {
      "cell_type": "markdown",
      "source": [
        "**Number of Error Prompts from User**"
      ],
      "metadata": {
        "id": "U7NvpOfZc_g5"
      }
    },
    {
      "cell_type": "code",
      "source": [
        "def contains_error(word):\n",
        "    return \"error\" in word.lower() or \"exception\" in word.lower() or \"typeerror\" in word.lower()\n",
        "\n",
        "def prompt_contains_error(prompt):\n",
        "    return any(contains_error(word) for word in prompt.split())\n",
        "\n",
        "# Calculate Ratio of User Prompts with at least one Error Word\n",
        "ratio_user_prompts_with_error = []\n",
        "for code in question_mapping_scores['code']:\n",
        "    if code in code2prompts and code in code2convos:  # Check if there are user prompts and conversations for the code\n",
        "        user_prompts = [prompt['text'] for prompt in code2convos[code] if prompt['role'] == 'user']\n",
        "        user_prompts_with_error_count = sum(prompt_contains_error(prompt) for prompt in user_prompts)\n",
        "        total_user_prompts_count = len(user_prompts)\n",
        "        if total_user_prompts_count == 0:  # Avoid division by zero\n",
        "            ratio_user_prompts_with_error.append(0)\n",
        "        else:\n",
        "            ratio_user_prompts_with_error.append(user_prompts_with_error_count / total_user_prompts_count)\n",
        "    else:\n",
        "        ratio_user_prompts_with_error.append(0)  # If there are no user prompts or conversations for the code, set the ratio to 0\n",
        "\n",
        "question_mapping_scores['Error Ratio'] = ratio_user_prompts_with_error"
      ],
      "metadata": {
        "id": "9-ntXQlgQVUY"
      },
      "execution_count": 728,
      "outputs": []
    },
    {
      "cell_type": "markdown",
      "source": [
        "**Conversation Length**"
      ],
      "metadata": {
        "id": "6j7p9TJqdMbc"
      }
    },
    {
      "cell_type": "code",
      "source": [
        "# Calculate Conversation Length in Terms of Total Words\n",
        "conversation_lengths = []\n",
        "for code in question_mapping_scores['code']:\n",
        "    if code in code2convos:  # Check if there are conversations for the code\n",
        "        total_words_count = sum(len(conv['text'].split()) for conv in code2convos[code])\n",
        "        conversation_lengths.append(total_words_count)\n",
        "    else:\n",
        "        conversation_lengths.append(0)  # If there are no conversations for the code, set the length to 0\n",
        "\n",
        "question_mapping_scores['Length'] = conversation_lengths"
      ],
      "metadata": {
        "id": "2x9782hMRyac"
      },
      "execution_count": 729,
      "outputs": []
    },
    {
      "cell_type": "markdown",
      "source": [
        "**Merging with Grades**"
      ],
      "metadata": {
        "id": "QfzBH973qvfN"
      }
    },
    {
      "cell_type": "code",
      "source": [
        "scores_df = pd.read_csv('scores.csv', index_col=None)\n",
        "\n",
        "merged_df = pd.merge(question_mapping_scores, scores_df, on='code', how=\"left\")\n",
        "merged_df = merged_df.drop('Unnamed: 0', axis=1)\n",
        "\n",
        "df = merged_df.drop_duplicates(keep='first')"
      ],
      "metadata": {
        "id": "iaGWtLIfqx4q"
      },
      "execution_count": 730,
      "outputs": []
    },
    {
      "cell_type": "markdown",
      "source": [
        "**Resulted Data Frame**"
      ],
      "metadata": {
        "id": "Q4D_uN28DZGk"
      }
    },
    {
      "cell_type": "code",
      "source": [
        "df.head()"
      ],
      "metadata": {
        "colab": {
          "base_uri": "https://localhost:8080/",
          "height": 521
        },
        "id": "GgpkiisODV-1",
        "outputId": "d4515807-166f-4144-a4c7-94b26344cf1a"
      },
      "execution_count": 731,
      "outputs": [
        {
          "output_type": "execute_result",
          "data": {
            "text/plain": [
              "                                   code       Q_0       Q_1       Q_2  \\\n",
              "0  0031c86e-81f4-4eef-9e0e-28037abf9883  0.111065  0.281578  0.618961   \n",
              "1  0225686d-b825-4cac-8691-3a3a5343df2b  0.164216  0.802719  0.756955   \n",
              "2  041f950b-c013-409a-a642-cffff60b9d4b  0.089521  0.247172  0.502018   \n",
              "3  04f91058-d0f8-4324-83b2-19c671f433dc  0.059109  0.177408  0.171692   \n",
              "4  089eb66d-4c3a-4f58-b98f-a3774a2efb34  0.357090  0.618947  0.770297   \n",
              "\n",
              "        Q_3       Q_4       Q_5       Q_6       Q_7       Q_8  #UserPrompts  \\\n",
              "0  0.432243  0.510732  0.551559  0.139785  0.181310  0.123534            14   \n",
              "1  0.849414  0.614525  0.989534  0.852307  0.636646  0.578007            18   \n",
              "2  0.329575  0.627776  0.399371  0.445345  0.481055  0.268303             9   \n",
              "3  0.394055  0.519166  0.222054  0.129287  0.240920  0.361381            20   \n",
              "4  0.659338  0.745080  0.924457  0.601452  0.937321  0.499306            86   \n",
              "\n",
              "   User_Prompts_Avg_Num_Chars  Assistant_Prompts_Avg_Num_Chars  \\\n",
              "0                  244.500000                      1401.071429   \n",
              "1                  156.277778                      1073.000000   \n",
              "2                  417.444444                      1101.555556   \n",
              "3                   65.850000                      1112.500000   \n",
              "4                  132.558140                       934.360465   \n",
              "\n",
              "   User Assistant Ratio  Positive  Negative  Neutral  Error Ratio  Length  \\\n",
              "0              0.212783         6         4        4     0.357143    2998   \n",
              "1              0.182164         8         2        8     0.000000    2797   \n",
              "2              0.480653         3         0        6     0.555556    1722   \n",
              "3              0.071978         4         2       14     0.050000    3068   \n",
              "4              0.152105        31        12       43     0.081395   11248   \n",
              "\n",
              "   grade  \n",
              "0   48.0  \n",
              "1   99.0  \n",
              "2   90.0  \n",
              "3   97.0  \n",
              "4  100.0  "
            ],
            "text/html": [
              "\n",
              "  <div id=\"df-c5e4dbc3-cf33-4b22-8e7a-ee963e813d94\" class=\"colab-df-container\">\n",
              "    <div>\n",
              "<style scoped>\n",
              "    .dataframe tbody tr th:only-of-type {\n",
              "        vertical-align: middle;\n",
              "    }\n",
              "\n",
              "    .dataframe tbody tr th {\n",
              "        vertical-align: top;\n",
              "    }\n",
              "\n",
              "    .dataframe thead th {\n",
              "        text-align: right;\n",
              "    }\n",
              "</style>\n",
              "<table border=\"1\" class=\"dataframe\">\n",
              "  <thead>\n",
              "    <tr style=\"text-align: right;\">\n",
              "      <th></th>\n",
              "      <th>code</th>\n",
              "      <th>Q_0</th>\n",
              "      <th>Q_1</th>\n",
              "      <th>Q_2</th>\n",
              "      <th>Q_3</th>\n",
              "      <th>Q_4</th>\n",
              "      <th>Q_5</th>\n",
              "      <th>Q_6</th>\n",
              "      <th>Q_7</th>\n",
              "      <th>Q_8</th>\n",
              "      <th>#UserPrompts</th>\n",
              "      <th>User_Prompts_Avg_Num_Chars</th>\n",
              "      <th>Assistant_Prompts_Avg_Num_Chars</th>\n",
              "      <th>User Assistant Ratio</th>\n",
              "      <th>Positive</th>\n",
              "      <th>Negative</th>\n",
              "      <th>Neutral</th>\n",
              "      <th>Error Ratio</th>\n",
              "      <th>Length</th>\n",
              "      <th>grade</th>\n",
              "    </tr>\n",
              "  </thead>\n",
              "  <tbody>\n",
              "    <tr>\n",
              "      <th>0</th>\n",
              "      <td>0031c86e-81f4-4eef-9e0e-28037abf9883</td>\n",
              "      <td>0.111065</td>\n",
              "      <td>0.281578</td>\n",
              "      <td>0.618961</td>\n",
              "      <td>0.432243</td>\n",
              "      <td>0.510732</td>\n",
              "      <td>0.551559</td>\n",
              "      <td>0.139785</td>\n",
              "      <td>0.181310</td>\n",
              "      <td>0.123534</td>\n",
              "      <td>14</td>\n",
              "      <td>244.500000</td>\n",
              "      <td>1401.071429</td>\n",
              "      <td>0.212783</td>\n",
              "      <td>6</td>\n",
              "      <td>4</td>\n",
              "      <td>4</td>\n",
              "      <td>0.357143</td>\n",
              "      <td>2998</td>\n",
              "      <td>48.0</td>\n",
              "    </tr>\n",
              "    <tr>\n",
              "      <th>1</th>\n",
              "      <td>0225686d-b825-4cac-8691-3a3a5343df2b</td>\n",
              "      <td>0.164216</td>\n",
              "      <td>0.802719</td>\n",
              "      <td>0.756955</td>\n",
              "      <td>0.849414</td>\n",
              "      <td>0.614525</td>\n",
              "      <td>0.989534</td>\n",
              "      <td>0.852307</td>\n",
              "      <td>0.636646</td>\n",
              "      <td>0.578007</td>\n",
              "      <td>18</td>\n",
              "      <td>156.277778</td>\n",
              "      <td>1073.000000</td>\n",
              "      <td>0.182164</td>\n",
              "      <td>8</td>\n",
              "      <td>2</td>\n",
              "      <td>8</td>\n",
              "      <td>0.000000</td>\n",
              "      <td>2797</td>\n",
              "      <td>99.0</td>\n",
              "    </tr>\n",
              "    <tr>\n",
              "      <th>2</th>\n",
              "      <td>041f950b-c013-409a-a642-cffff60b9d4b</td>\n",
              "      <td>0.089521</td>\n",
              "      <td>0.247172</td>\n",
              "      <td>0.502018</td>\n",
              "      <td>0.329575</td>\n",
              "      <td>0.627776</td>\n",
              "      <td>0.399371</td>\n",
              "      <td>0.445345</td>\n",
              "      <td>0.481055</td>\n",
              "      <td>0.268303</td>\n",
              "      <td>9</td>\n",
              "      <td>417.444444</td>\n",
              "      <td>1101.555556</td>\n",
              "      <td>0.480653</td>\n",
              "      <td>3</td>\n",
              "      <td>0</td>\n",
              "      <td>6</td>\n",
              "      <td>0.555556</td>\n",
              "      <td>1722</td>\n",
              "      <td>90.0</td>\n",
              "    </tr>\n",
              "    <tr>\n",
              "      <th>3</th>\n",
              "      <td>04f91058-d0f8-4324-83b2-19c671f433dc</td>\n",
              "      <td>0.059109</td>\n",
              "      <td>0.177408</td>\n",
              "      <td>0.171692</td>\n",
              "      <td>0.394055</td>\n",
              "      <td>0.519166</td>\n",
              "      <td>0.222054</td>\n",
              "      <td>0.129287</td>\n",
              "      <td>0.240920</td>\n",
              "      <td>0.361381</td>\n",
              "      <td>20</td>\n",
              "      <td>65.850000</td>\n",
              "      <td>1112.500000</td>\n",
              "      <td>0.071978</td>\n",
              "      <td>4</td>\n",
              "      <td>2</td>\n",
              "      <td>14</td>\n",
              "      <td>0.050000</td>\n",
              "      <td>3068</td>\n",
              "      <td>97.0</td>\n",
              "    </tr>\n",
              "    <tr>\n",
              "      <th>4</th>\n",
              "      <td>089eb66d-4c3a-4f58-b98f-a3774a2efb34</td>\n",
              "      <td>0.357090</td>\n",
              "      <td>0.618947</td>\n",
              "      <td>0.770297</td>\n",
              "      <td>0.659338</td>\n",
              "      <td>0.745080</td>\n",
              "      <td>0.924457</td>\n",
              "      <td>0.601452</td>\n",
              "      <td>0.937321</td>\n",
              "      <td>0.499306</td>\n",
              "      <td>86</td>\n",
              "      <td>132.558140</td>\n",
              "      <td>934.360465</td>\n",
              "      <td>0.152105</td>\n",
              "      <td>31</td>\n",
              "      <td>12</td>\n",
              "      <td>43</td>\n",
              "      <td>0.081395</td>\n",
              "      <td>11248</td>\n",
              "      <td>100.0</td>\n",
              "    </tr>\n",
              "  </tbody>\n",
              "</table>\n",
              "</div>\n",
              "    <div class=\"colab-df-buttons\">\n",
              "\n",
              "  <div class=\"colab-df-container\">\n",
              "    <button class=\"colab-df-convert\" onclick=\"convertToInteractive('df-c5e4dbc3-cf33-4b22-8e7a-ee963e813d94')\"\n",
              "            title=\"Convert this dataframe to an interactive table.\"\n",
              "            style=\"display:none;\">\n",
              "\n",
              "  <svg xmlns=\"http://www.w3.org/2000/svg\" height=\"24px\" viewBox=\"0 -960 960 960\">\n",
              "    <path d=\"M120-120v-720h720v720H120Zm60-500h600v-160H180v160Zm220 220h160v-160H400v160Zm0 220h160v-160H400v160ZM180-400h160v-160H180v160Zm440 0h160v-160H620v160ZM180-180h160v-160H180v160Zm440 0h160v-160H620v160Z\"/>\n",
              "  </svg>\n",
              "    </button>\n",
              "\n",
              "  <style>\n",
              "    .colab-df-container {\n",
              "      display:flex;\n",
              "      gap: 12px;\n",
              "    }\n",
              "\n",
              "    .colab-df-convert {\n",
              "      background-color: #E8F0FE;\n",
              "      border: none;\n",
              "      border-radius: 50%;\n",
              "      cursor: pointer;\n",
              "      display: none;\n",
              "      fill: #1967D2;\n",
              "      height: 32px;\n",
              "      padding: 0 0 0 0;\n",
              "      width: 32px;\n",
              "    }\n",
              "\n",
              "    .colab-df-convert:hover {\n",
              "      background-color: #E2EBFA;\n",
              "      box-shadow: 0px 1px 2px rgba(60, 64, 67, 0.3), 0px 1px 3px 1px rgba(60, 64, 67, 0.15);\n",
              "      fill: #174EA6;\n",
              "    }\n",
              "\n",
              "    .colab-df-buttons div {\n",
              "      margin-bottom: 4px;\n",
              "    }\n",
              "\n",
              "    [theme=dark] .colab-df-convert {\n",
              "      background-color: #3B4455;\n",
              "      fill: #D2E3FC;\n",
              "    }\n",
              "\n",
              "    [theme=dark] .colab-df-convert:hover {\n",
              "      background-color: #434B5C;\n",
              "      box-shadow: 0px 1px 3px 1px rgba(0, 0, 0, 0.15);\n",
              "      filter: drop-shadow(0px 1px 2px rgba(0, 0, 0, 0.3));\n",
              "      fill: #FFFFFF;\n",
              "    }\n",
              "  </style>\n",
              "\n",
              "    <script>\n",
              "      const buttonEl =\n",
              "        document.querySelector('#df-c5e4dbc3-cf33-4b22-8e7a-ee963e813d94 button.colab-df-convert');\n",
              "      buttonEl.style.display =\n",
              "        google.colab.kernel.accessAllowed ? 'block' : 'none';\n",
              "\n",
              "      async function convertToInteractive(key) {\n",
              "        const element = document.querySelector('#df-c5e4dbc3-cf33-4b22-8e7a-ee963e813d94');\n",
              "        const dataTable =\n",
              "          await google.colab.kernel.invokeFunction('convertToInteractive',\n",
              "                                                    [key], {});\n",
              "        if (!dataTable) return;\n",
              "\n",
              "        const docLinkHtml = 'Like what you see? Visit the ' +\n",
              "          '<a target=\"_blank\" href=https://colab.research.google.com/notebooks/data_table.ipynb>data table notebook</a>'\n",
              "          + ' to learn more about interactive tables.';\n",
              "        element.innerHTML = '';\n",
              "        dataTable['output_type'] = 'display_data';\n",
              "        await google.colab.output.renderOutput(dataTable, element);\n",
              "        const docLink = document.createElement('div');\n",
              "        docLink.innerHTML = docLinkHtml;\n",
              "        element.appendChild(docLink);\n",
              "      }\n",
              "    </script>\n",
              "  </div>\n",
              "\n",
              "\n",
              "<div id=\"df-7916db8e-423b-4e1f-add4-57103ddf7ed6\">\n",
              "  <button class=\"colab-df-quickchart\" onclick=\"quickchart('df-7916db8e-423b-4e1f-add4-57103ddf7ed6')\"\n",
              "            title=\"Suggest charts\"\n",
              "            style=\"display:none;\">\n",
              "\n",
              "<svg xmlns=\"http://www.w3.org/2000/svg\" height=\"24px\"viewBox=\"0 0 24 24\"\n",
              "     width=\"24px\">\n",
              "    <g>\n",
              "        <path d=\"M19 3H5c-1.1 0-2 .9-2 2v14c0 1.1.9 2 2 2h14c1.1 0 2-.9 2-2V5c0-1.1-.9-2-2-2zM9 17H7v-7h2v7zm4 0h-2V7h2v10zm4 0h-2v-4h2v4z\"/>\n",
              "    </g>\n",
              "</svg>\n",
              "  </button>\n",
              "\n",
              "<style>\n",
              "  .colab-df-quickchart {\n",
              "      --bg-color: #E8F0FE;\n",
              "      --fill-color: #1967D2;\n",
              "      --hover-bg-color: #E2EBFA;\n",
              "      --hover-fill-color: #174EA6;\n",
              "      --disabled-fill-color: #AAA;\n",
              "      --disabled-bg-color: #DDD;\n",
              "  }\n",
              "\n",
              "  [theme=dark] .colab-df-quickchart {\n",
              "      --bg-color: #3B4455;\n",
              "      --fill-color: #D2E3FC;\n",
              "      --hover-bg-color: #434B5C;\n",
              "      --hover-fill-color: #FFFFFF;\n",
              "      --disabled-bg-color: #3B4455;\n",
              "      --disabled-fill-color: #666;\n",
              "  }\n",
              "\n",
              "  .colab-df-quickchart {\n",
              "    background-color: var(--bg-color);\n",
              "    border: none;\n",
              "    border-radius: 50%;\n",
              "    cursor: pointer;\n",
              "    display: none;\n",
              "    fill: var(--fill-color);\n",
              "    height: 32px;\n",
              "    padding: 0;\n",
              "    width: 32px;\n",
              "  }\n",
              "\n",
              "  .colab-df-quickchart:hover {\n",
              "    background-color: var(--hover-bg-color);\n",
              "    box-shadow: 0 1px 2px rgba(60, 64, 67, 0.3), 0 1px 3px 1px rgba(60, 64, 67, 0.15);\n",
              "    fill: var(--button-hover-fill-color);\n",
              "  }\n",
              "\n",
              "  .colab-df-quickchart-complete:disabled,\n",
              "  .colab-df-quickchart-complete:disabled:hover {\n",
              "    background-color: var(--disabled-bg-color);\n",
              "    fill: var(--disabled-fill-color);\n",
              "    box-shadow: none;\n",
              "  }\n",
              "\n",
              "  .colab-df-spinner {\n",
              "    border: 2px solid var(--fill-color);\n",
              "    border-color: transparent;\n",
              "    border-bottom-color: var(--fill-color);\n",
              "    animation:\n",
              "      spin 1s steps(1) infinite;\n",
              "  }\n",
              "\n",
              "  @keyframes spin {\n",
              "    0% {\n",
              "      border-color: transparent;\n",
              "      border-bottom-color: var(--fill-color);\n",
              "      border-left-color: var(--fill-color);\n",
              "    }\n",
              "    20% {\n",
              "      border-color: transparent;\n",
              "      border-left-color: var(--fill-color);\n",
              "      border-top-color: var(--fill-color);\n",
              "    }\n",
              "    30% {\n",
              "      border-color: transparent;\n",
              "      border-left-color: var(--fill-color);\n",
              "      border-top-color: var(--fill-color);\n",
              "      border-right-color: var(--fill-color);\n",
              "    }\n",
              "    40% {\n",
              "      border-color: transparent;\n",
              "      border-right-color: var(--fill-color);\n",
              "      border-top-color: var(--fill-color);\n",
              "    }\n",
              "    60% {\n",
              "      border-color: transparent;\n",
              "      border-right-color: var(--fill-color);\n",
              "    }\n",
              "    80% {\n",
              "      border-color: transparent;\n",
              "      border-right-color: var(--fill-color);\n",
              "      border-bottom-color: var(--fill-color);\n",
              "    }\n",
              "    90% {\n",
              "      border-color: transparent;\n",
              "      border-bottom-color: var(--fill-color);\n",
              "    }\n",
              "  }\n",
              "</style>\n",
              "\n",
              "  <script>\n",
              "    async function quickchart(key) {\n",
              "      const quickchartButtonEl =\n",
              "        document.querySelector('#' + key + ' button');\n",
              "      quickchartButtonEl.disabled = true;  // To prevent multiple clicks.\n",
              "      quickchartButtonEl.classList.add('colab-df-spinner');\n",
              "      try {\n",
              "        const charts = await google.colab.kernel.invokeFunction(\n",
              "            'suggestCharts', [key], {});\n",
              "      } catch (error) {\n",
              "        console.error('Error during call to suggestCharts:', error);\n",
              "      }\n",
              "      quickchartButtonEl.classList.remove('colab-df-spinner');\n",
              "      quickchartButtonEl.classList.add('colab-df-quickchart-complete');\n",
              "    }\n",
              "    (() => {\n",
              "      let quickchartButtonEl =\n",
              "        document.querySelector('#df-7916db8e-423b-4e1f-add4-57103ddf7ed6 button');\n",
              "      quickchartButtonEl.style.display =\n",
              "        google.colab.kernel.accessAllowed ? 'block' : 'none';\n",
              "    })();\n",
              "  </script>\n",
              "</div>\n",
              "    </div>\n",
              "  </div>\n"
            ]
          },
          "metadata": {},
          "execution_count": 731
        }
      ]
    },
    {
      "cell_type": "markdown",
      "source": [
        "**Detecting and Treating Outliers**\n",
        "\n",
        "In our project, detecting and treating outliers is essential to ensure the reliability and accuracy of our predictive models. By identifying and replacing outliers with the average value of their respective node, we aim to mitigate their impact on our analysis. This process helps in creating a more representative and stable dataset, which in turn improves the robustness of our machine learning models and enhances the accuracy of our predictions."
      ],
      "metadata": {
        "id": "NpfuTM6LbI07"
      }
    },
    {
      "cell_type": "code",
      "source": [
        "import pandas as pd\n",
        "\n",
        "# Dictionary to store acceptance regions and outlier indexes for each column\n",
        "acceptance_regions = {}\n",
        "outlier_indexes_dict = {}\n",
        "\n",
        "# Loop through all columns except non-numeric columns\n",
        "for col in df.select_dtypes(include='number').columns:\n",
        "    # Calculate the mean and standard deviation of the column\n",
        "    mean = df[col].mean()\n",
        "    std = df[col].std()\n",
        "\n",
        "    # Define the acceptance region based on mean and standard deviation\n",
        "    lower_bound = mean - 2 * std\n",
        "    upper_bound = mean + 2 * std\n",
        "\n",
        "    # Find the indexes of rows that fall outside the acceptance region\n",
        "    outlier_indexes = df[(df[col] < lower_bound) | (df[col] > upper_bound)].index\n",
        "\n",
        "    # Replace outliers with the column mean\n",
        "    df.loc[outlier_indexes, col] = mean\n",
        "\n",
        "    # Store the acceptance region and outlier indexes for the column\n",
        "    acceptance_regions[col] = (lower_bound, upper_bound)\n",
        "    outlier_indexes_dict[col] = outlier_indexes.tolist()"
      ],
      "metadata": {
        "id": "RY-HRaItqyyH"
      },
      "execution_count": 732,
      "outputs": []
    },
    {
      "cell_type": "markdown",
      "source": [
        "### **Prediction and Analysis**\n",
        "\n",
        "During the prediction and analysis phase of our project, we followed a systematic approach to evaluate and compare the performance of various regression algorithms. Initially, we divided our dataset into training and testing subsets, allocating 80% for training and 20% for testing. Subsequently, we implemented **Linear Regression**, **Decision Tree**, **Random Forest**, and **k Nearest Neighbors (KNN)** algorithms. This comprehensive analysis allowed us to assess the strengths and weaknesses of each algorithm and determine the most suitable model for our predictive task."
      ],
      "metadata": {
        "id": "pZkuODcQq36u"
      }
    },
    {
      "cell_type": "markdown",
      "source": [
        "**Splitting Data**"
      ],
      "metadata": {
        "id": "9bedh-UcrFp4"
      }
    },
    {
      "cell_type": "code",
      "source": [
        "X = df[df.columns[1:-1]].to_numpy()\n",
        "y = df[\"grade\"].to_numpy()"
      ],
      "metadata": {
        "id": "htsHNx9wvaPl"
      },
      "execution_count": 733,
      "outputs": []
    },
    {
      "cell_type": "code",
      "source": [
        "X_train, X_test, y_train, y_test = train_test_split(X, y, test_size=0.2, random_state=42)\n",
        "print(\"Train set size:\", len(X_train))\n",
        "print(\"Test set size:\", len(X_test))"
      ],
      "metadata": {
        "colab": {
          "base_uri": "https://localhost:8080/"
        },
        "id": "TD5xPuxuvlNa",
        "outputId": "db38e9e1-6fe8-448d-d451-43033f5953e8"
      },
      "execution_count": 734,
      "outputs": [
        {
          "output_type": "stream",
          "name": "stdout",
          "text": [
            "Train set size: 99\n",
            "Test set size: 25\n"
          ]
        }
      ]
    },
    {
      "cell_type": "markdown",
      "source": [
        "**Drop Rows with NaN Values from Training Sets**"
      ],
      "metadata": {
        "id": "G7BOzPf7vlhf"
      }
    },
    {
      "cell_type": "code",
      "source": [
        "import numpy as np\n",
        "\n",
        "# Check for NaN values in X_train\n",
        "nan_indices_train = np.argwhere(np.isnan(X_train))\n",
        "if len(nan_indices_train) > 0:\n",
        "    print(\"NaN values found in X_train at indices:\", nan_indices_train.flatten())\n",
        "    # Drop rows with NaN values from X_train and y_train\n",
        "    X_train = np.delete(X_train, nan_indices_train[:, 0], axis=0)\n",
        "    y_train = np.delete(y_train, nan_indices_train[:, 0], axis=0)\n",
        "    print(\"NaN values dropped from X_train and y_train.\")\n",
        "\n",
        "# Check for NaN values in X_test\n",
        "nan_indices_test = np.argwhere(np.isnan(X_test))\n",
        "if len(nan_indices_test) > 0:\n",
        "    print(\"NaN values found in X_test at indices:\", nan_indices_test.flatten())\n",
        "    # Drop rows with NaN values from X_test and y_test\n",
        "    X_test = np.delete(X_test, nan_indices_test[:, 0], axis=0)\n",
        "    y_test = np.delete(y_test, nan_indices_test[:, 0], axis=0)\n",
        "    print(\"NaN values dropped from X_test and y_test.\")\n",
        "else:\n",
        "    print(\"No NaN values found in X_test.\")\n"
      ],
      "metadata": {
        "colab": {
          "base_uri": "https://localhost:8080/"
        },
        "id": "sAarx6NTw4hT",
        "outputId": "6ecb29f7-cc54-4ca8-a11d-f69e85411421"
      },
      "execution_count": 735,
      "outputs": [
        {
          "output_type": "stream",
          "name": "stdout",
          "text": [
            "No NaN values found in X_test.\n"
          ]
        }
      ]
    },
    {
      "cell_type": "code",
      "source": [
        "import numpy as np\n",
        "\n",
        "# Check for NaN values in y_train\n",
        "nan_indices_y_train = np.argwhere(np.isnan(y_train))\n",
        "if len(nan_indices_y_train) > 0:\n",
        "    print(\"NaN values found in y_train at indices:\", nan_indices_y_train.flatten())\n",
        "    # Drop rows with NaN values from X_train and y_train\n",
        "    X_train = np.delete(X_train, nan_indices_y_train[:, 0], axis=0)\n",
        "    y_train = np.delete(y_train, nan_indices_y_train[:, 0], axis=0)\n",
        "    print(\"NaN values dropped from X_train and y_train.\")\n",
        "\n",
        "# Check for NaN values in y_test\n",
        "nan_indices_y_test = np.argwhere(np.isnan(y_test))\n",
        "if len(nan_indices_y_test) > 0:\n",
        "    print(\"NaN values found in y_test at indices:\", nan_indices_y_test.flatten())\n",
        "    # Drop rows with NaN values from X_test and y_test\n",
        "    X_test = np.delete(X_test, nan_indices_y_test[:, 0], axis=0)\n",
        "    y_test = np.delete(y_test, nan_indices_y_test[:, 0], axis=0)\n",
        "    print(\"NaN values dropped from X_test and y_test.\")\n",
        "else:\n",
        "    print(\"No NaN values found in y_test.\")\n"
      ],
      "metadata": {
        "colab": {
          "base_uri": "https://localhost:8080/"
        },
        "id": "YkdlX35Ew_R4",
        "outputId": "c4c8547c-fba2-42cb-e0c6-ed8f232b806a"
      },
      "execution_count": 736,
      "outputs": [
        {
          "output_type": "stream",
          "name": "stdout",
          "text": [
            "NaN values found in y_train at indices: [13]\n",
            "NaN values dropped from X_train and y_train.\n",
            "NaN values found in y_test at indices: [12]\n",
            "NaN values dropped from X_test and y_test.\n"
          ]
        }
      ]
    },
    {
      "cell_type": "code",
      "source": [
        "print(\"Updated Train set size:\", len(X_train))\n",
        "print(\"Updated Test set size:\", len(X_test))"
      ],
      "metadata": {
        "colab": {
          "base_uri": "https://localhost:8080/"
        },
        "id": "H9E0alt5vqrO",
        "outputId": "054e23fb-b373-439b-df70-600fa2101d03"
      },
      "execution_count": 737,
      "outputs": [
        {
          "output_type": "stream",
          "name": "stdout",
          "text": [
            "Updated Train set size: 98\n",
            "Updated Test set size: 24\n"
          ]
        }
      ]
    },
    {
      "cell_type": "markdown",
      "source": [
        "**Base Case**\n",
        "\n",
        "The base case provided by the assistant serves as a benchmark against which we evaluate the performance of our regression algorithms. By comparing the predictions generated by our models with the base case, we can assess their accuracy and effectiveness in capturing the underlying patterns in the data."
      ],
      "metadata": {
        "id": "lzEG_XWXr5e4"
      }
    },
    {
      "cell_type": "code",
      "execution_count": 738,
      "metadata": {
        "colab": {
          "base_uri": "https://localhost:8080/",
          "height": 74
        },
        "outputId": "ac79c8ca-1c63-48f5-e271-828936602a8b",
        "id": "Fwtbi9Q0sH8G"
      },
      "outputs": [
        {
          "output_type": "execute_result",
          "data": {
            "text/plain": [
              "DecisionTreeRegressor(max_depth=10, random_state=0)"
            ],
            "text/html": [
              "<style>#sk-container-id-24 {color: black;background-color: white;}#sk-container-id-24 pre{padding: 0;}#sk-container-id-24 div.sk-toggleable {background-color: white;}#sk-container-id-24 label.sk-toggleable__label {cursor: pointer;display: block;width: 100%;margin-bottom: 0;padding: 0.3em;box-sizing: border-box;text-align: center;}#sk-container-id-24 label.sk-toggleable__label-arrow:before {content: \"▸\";float: left;margin-right: 0.25em;color: #696969;}#sk-container-id-24 label.sk-toggleable__label-arrow:hover:before {color: black;}#sk-container-id-24 div.sk-estimator:hover label.sk-toggleable__label-arrow:before {color: black;}#sk-container-id-24 div.sk-toggleable__content {max-height: 0;max-width: 0;overflow: hidden;text-align: left;background-color: #f0f8ff;}#sk-container-id-24 div.sk-toggleable__content pre {margin: 0.2em;color: black;border-radius: 0.25em;background-color: #f0f8ff;}#sk-container-id-24 input.sk-toggleable__control:checked~div.sk-toggleable__content {max-height: 200px;max-width: 100%;overflow: auto;}#sk-container-id-24 input.sk-toggleable__control:checked~label.sk-toggleable__label-arrow:before {content: \"▾\";}#sk-container-id-24 div.sk-estimator input.sk-toggleable__control:checked~label.sk-toggleable__label {background-color: #d4ebff;}#sk-container-id-24 div.sk-label input.sk-toggleable__control:checked~label.sk-toggleable__label {background-color: #d4ebff;}#sk-container-id-24 input.sk-hidden--visually {border: 0;clip: rect(1px 1px 1px 1px);clip: rect(1px, 1px, 1px, 1px);height: 1px;margin: -1px;overflow: hidden;padding: 0;position: absolute;width: 1px;}#sk-container-id-24 div.sk-estimator {font-family: monospace;background-color: #f0f8ff;border: 1px dotted black;border-radius: 0.25em;box-sizing: border-box;margin-bottom: 0.5em;}#sk-container-id-24 div.sk-estimator:hover {background-color: #d4ebff;}#sk-container-id-24 div.sk-parallel-item::after {content: \"\";width: 100%;border-bottom: 1px solid gray;flex-grow: 1;}#sk-container-id-24 div.sk-label:hover label.sk-toggleable__label {background-color: #d4ebff;}#sk-container-id-24 div.sk-serial::before {content: \"\";position: absolute;border-left: 1px solid gray;box-sizing: border-box;top: 0;bottom: 0;left: 50%;z-index: 0;}#sk-container-id-24 div.sk-serial {display: flex;flex-direction: column;align-items: center;background-color: white;padding-right: 0.2em;padding-left: 0.2em;position: relative;}#sk-container-id-24 div.sk-item {position: relative;z-index: 1;}#sk-container-id-24 div.sk-parallel {display: flex;align-items: stretch;justify-content: center;background-color: white;position: relative;}#sk-container-id-24 div.sk-item::before, #sk-container-id-24 div.sk-parallel-item::before {content: \"\";position: absolute;border-left: 1px solid gray;box-sizing: border-box;top: 0;bottom: 0;left: 50%;z-index: -1;}#sk-container-id-24 div.sk-parallel-item {display: flex;flex-direction: column;z-index: 1;position: relative;background-color: white;}#sk-container-id-24 div.sk-parallel-item:first-child::after {align-self: flex-end;width: 50%;}#sk-container-id-24 div.sk-parallel-item:last-child::after {align-self: flex-start;width: 50%;}#sk-container-id-24 div.sk-parallel-item:only-child::after {width: 0;}#sk-container-id-24 div.sk-dashed-wrapped {border: 1px dashed gray;margin: 0 0.4em 0.5em 0.4em;box-sizing: border-box;padding-bottom: 0.4em;background-color: white;}#sk-container-id-24 div.sk-label label {font-family: monospace;font-weight: bold;display: inline-block;line-height: 1.2em;}#sk-container-id-24 div.sk-label-container {text-align: center;}#sk-container-id-24 div.sk-container {/* jupyter's `normalize.less` sets `[hidden] { display: none; }` but bootstrap.min.css set `[hidden] { display: none !important; }` so we also need the `!important` here to be able to override the default hidden behavior on the sphinx rendered scikit-learn.org. See: https://github.com/scikit-learn/scikit-learn/issues/21755 */display: inline-block !important;position: relative;}#sk-container-id-24 div.sk-text-repr-fallback {display: none;}</style><div id=\"sk-container-id-24\" class=\"sk-top-container\"><div class=\"sk-text-repr-fallback\"><pre>DecisionTreeRegressor(max_depth=10, random_state=0)</pre><b>In a Jupyter environment, please rerun this cell to show the HTML representation or trust the notebook. <br />On GitHub, the HTML representation is unable to render, please try loading this page with nbviewer.org.</b></div><div class=\"sk-container\" hidden><div class=\"sk-item\"><div class=\"sk-estimator sk-toggleable\"><input class=\"sk-toggleable__control sk-hidden--visually\" id=\"sk-estimator-id-24\" type=\"checkbox\" checked><label for=\"sk-estimator-id-24\" class=\"sk-toggleable__label sk-toggleable__label-arrow\">DecisionTreeRegressor</label><div class=\"sk-toggleable__content\"><pre>DecisionTreeRegressor(max_depth=10, random_state=0)</pre></div></div></div></div></div>"
            ]
          },
          "metadata": {},
          "execution_count": 738
        }
      ],
      "source": [
        "regressor = DecisionTreeRegressor(random_state=0,criterion='squared_error', max_depth=10)\n",
        "regressor.fit(X_train, y_train)"
      ]
    },
    {
      "cell_type": "code",
      "execution_count": 739,
      "metadata": {
        "colab": {
          "base_uri": "https://localhost:8080/"
        },
        "outputId": "2084f553-5bd3-4b9c-afdb-6b849b978107",
        "id": "jqlh9FivsTxR"
      },
      "outputs": [
        {
          "output_type": "stream",
          "name": "stdout",
          "text": [
            "Node 0 has MSE 46.91066707206119\n",
            "Node 1 has MSE 61.840000000001055\n",
            "Node 2 has MSE 21.1875\n",
            "Node 3 has MSE 2.25\n",
            "Node 4 has MSE 0.0\n",
            "Node 5 has MSE 0.0\n",
            "Node 6 has MSE 4.0\n",
            "Node 7 has MSE 0.0\n",
            "Node 8 has MSE 0.0\n",
            "Node 9 has MSE 0.0\n",
            "Node 10 has MSE 36.72284966666666\n",
            "Node 11 has MSE 41.47222222222172\n",
            "Node 12 has MSE 6.25\n",
            "Node 13 has MSE 0.0\n",
            "Node 14 has MSE 0.0\n",
            "Node 15 has MSE 2.75\n",
            "Node 16 has MSE 1.0\n",
            "Node 17 has MSE 0.0\n",
            "Node 18 has MSE 0.0\n",
            "Node 19 has MSE 0.0\n",
            "Node 20 has MSE 29.028847529361883\n",
            "Node 21 has MSE 14.325333543589295\n",
            "Node 22 has MSE 11.711688367973693\n",
            "Node 23 has MSE 12.88947443813231\n",
            "Node 24 has MSE 23.1875\n",
            "Node 25 has MSE 4.0\n",
            "Node 26 has MSE 0.0\n",
            "Node 27 has MSE 0.0\n",
            "Node 28 has MSE 6.25\n",
            "Node 29 has MSE 0.0\n",
            "Node 30 has MSE 0.0\n",
            "Node 31 has MSE 10.015632260308848\n",
            "Node 32 has MSE 1.4320987654336932\n",
            "Node 33 has MSE 0.2400000000016007\n",
            "Node 34 has MSE 0.0\n",
            "Node 35 has MSE 0.0\n",
            "Node 36 has MSE 1.5\n",
            "Node 37 has MSE 0.0\n",
            "Node 38 has MSE 0.22222222222262644\n",
            "Node 39 has MSE 0.0\n",
            "Node 40 has MSE 0.0\n",
            "Node 41 has MSE 10.346647406609918\n",
            "Node 42 has MSE 0.0\n",
            "Node 43 has MSE 8.423125026833077\n",
            "Node 44 has MSE 7.888117646838509\n",
            "Node 45 has MSE 0.22222222222080745\n",
            "Node 46 has MSE 7.321243771180889\n",
            "Node 47 has MSE 0.24999999998544808\n",
            "Node 48 has MSE 0.0\n",
            "Node 49 has MSE 0.0\n",
            "Node 50 has MSE 2.1875\n",
            "Node 51 has MSE 0.9917355371890153\n",
            "Node 52 has MSE 0.0\n",
            "Node 53 has MSE 0.8163265306120593\n",
            "Node 54 has MSE 0.22222222222080745\n",
            "Node 55 has MSE 0.0\n",
            "Node 56 has MSE 0.0\n",
            "Node 57 has MSE 0.1875\n",
            "Node 58 has MSE 0.0\n",
            "Node 59 has MSE 0.0\n",
            "Node 60 has MSE 0.0\n",
            "Node 61 has MSE 2.25\n",
            "Node 62 has MSE 0.0\n",
            "Node 63 has MSE 0.0\n",
            "Node 64 has MSE 43.77218294130762\n",
            "Node 65 has MSE 39.42227065230418\n",
            "Node 66 has MSE 8.222222222221717\n",
            "Node 67 has MSE 2.25\n",
            "Node 68 has MSE 0.0\n",
            "Node 69 has MSE 0.0\n",
            "Node 70 has MSE 0.0\n",
            "Node 71 has MSE 29.2141598733906\n",
            "Node 72 has MSE 7.240841675626143\n",
            "Node 73 has MSE 1.0\n",
            "Node 74 has MSE 0.0\n",
            "Node 75 has MSE 0.0\n",
            "Node 76 has MSE 2.700903654933427\n",
            "Node 77 has MSE 0.0\n",
            "Node 78 has MSE 3.637978807091713e-12\n",
            "Node 79 has MSE 11.760000000002037\n",
            "Node 80 has MSE 0.0\n",
            "Node 81 has MSE 2.6875\n",
            "Node 82 has MSE 0.22222222222262644\n",
            "Node 83 has MSE 0.0\n",
            "Node 84 has MSE 0.0\n",
            "Node 85 has MSE 0.0\n",
            "Node 86 has MSE 32.547499999996944\n",
            "Node 87 has MSE 31.918367346939704\n",
            "Node 88 has MSE 8.2400000000016\n",
            "Node 89 has MSE 1.0\n",
            "Node 90 has MSE 0.0\n",
            "Node 91 has MSE 0.0\n",
            "Node 92 has MSE 0.22222222222262644\n",
            "Node 93 has MSE 0.25\n",
            "Node 94 has MSE 0.0\n",
            "Node 95 has MSE 6.25\n",
            "Node 96 has MSE 0.0\n",
            "Node 97 has MSE 0.0\n",
            "Node 98 has MSE 13.51479289940653\n",
            "Node 99 has MSE 3.4097222222226264\n",
            "Node 100 has MSE 0.25\n",
            "Node 101 has MSE 0.0\n",
            "Node 102 has MSE 0.0\n",
            "Node 103 has MSE 0.9600000000009459\n",
            "Node 104 has MSE 0.25\n",
            "Node 105 has MSE 0.0\n",
            "Node 106 has MSE 0.0\n",
            "Node 107 has MSE 0.1875\n",
            "Node 108 has MSE 0.0\n",
            "Node 109 has MSE 0.0\n",
            "Node 110 has MSE 0.0\n"
          ]
        }
      ],
      "source": [
        "extracted_MSEs = regressor.tree_.impurity\n",
        "for idx, MSE in enumerate(regressor.tree_.impurity):\n",
        "    print(\"Node {} has MSE {}\".format(idx,MSE))"
      ]
    },
    {
      "cell_type": "code",
      "execution_count": 740,
      "metadata": {
        "colab": {
          "base_uri": "https://localhost:8080/"
        },
        "outputId": "52917267-3752-4c0a-a4b0-daa834df873d",
        "id": "OuXqO7TWsbsF"
      },
      "outputs": [
        {
          "output_type": "stream",
          "name": "stdout",
          "text": [
            "MSE Train: 1.5807427128719962\n",
            "MSE TEST: 108.83360526494333\n",
            "R2 Train: 0.9663031286584819\n",
            "R2 TEST: -3.6389058810635504\n"
          ]
        }
      ],
      "source": [
        "# Prediction\n",
        "y_train_pred = regressor.predict(X_train)\n",
        "y_test_pred = regressor.predict(X_test)\n",
        "\n",
        "# Calculation of Mean Squared Error (MSE)\n",
        "print(\"MSE Train:\", mean_squared_error(y_train,y_train_pred))\n",
        "print(\"MSE TEST:\", mean_squared_error(y_test,y_test_pred))\n",
        "\n",
        "print(\"R2 Train:\", r2_score(y_train,y_train_pred))\n",
        "print(\"R2 TEST:\", r2_score(y_test,y_test_pred))"
      ]
    },
    {
      "cell_type": "markdown",
      "source": [
        "**Linear Regression**"
      ],
      "metadata": {
        "id": "FrA4zxL7rTmZ"
      }
    },
    {
      "cell_type": "code",
      "source": [
        "import pandas as pd\n",
        "from sklearn.model_selection import train_test_split\n",
        "from sklearn.linear_model import LinearRegression\n",
        "from sklearn.metrics import mean_squared_error, r2_score\n",
        "\n",
        "model = LinearRegression()\n",
        "model.fit(X_train, y_train)\n",
        "\n",
        "# Training set predictions and evaluation\n",
        "y_train_pred = model.predict(X_train)\n",
        "mse_train = mean_squared_error(y_train, y_train_pred)\n",
        "r2_train = r2_score(y_train, y_train_pred)\n",
        "\n",
        "# Test set predictions and evaluation\n",
        "y_test_pred = model.predict(X_test)\n",
        "mse_test = mean_squared_error(y_test, y_test_pred)\n",
        "r2_test = r2_score(y_test, y_test_pred)\n",
        "\n",
        "print(\"MSE Train:\", mse_train)\n",
        "print(\"MSE TEST:\", mse_test)\n",
        "print(\"R2 Train:\", r2_train)\n",
        "print(\"R2 TEST:\", r2_test)"
      ],
      "metadata": {
        "colab": {
          "base_uri": "https://localhost:8080/"
        },
        "id": "WLIfcBEoxCGv",
        "outputId": "de2d634f-6212-4336-de31-2516004e5d1c"
      },
      "execution_count": 741,
      "outputs": [
        {
          "output_type": "stream",
          "name": "stdout",
          "text": [
            "MSE Train: 34.992067326024284\n",
            "MSE TEST: 40.23351649840823\n",
            "R2 Train: 0.25407013990501226\n",
            "R2 TEST: -0.7149068603027549\n"
          ]
        }
      ]
    },
    {
      "cell_type": "markdown",
      "source": [
        "**Decision Tree**"
      ],
      "metadata": {
        "id": "HBDBmJI5rcrk"
      }
    },
    {
      "cell_type": "code",
      "source": [
        "import pandas as pd\n",
        "from sklearn.model_selection import train_test_split\n",
        "from sklearn.tree import DecisionTreeRegressor\n",
        "from sklearn.ensemble import RandomForestRegressor\n",
        "from sklearn.metrics import mean_squared_error, r2_score\n",
        "\n",
        "tree_model = DecisionTreeRegressor()\n",
        "tree_model.fit(X_train, y_train)\n",
        "\n",
        "# Training set predictions and evaluation\n",
        "y_train_pred_tree = tree_model.predict(X_train)\n",
        "mse_train_tree = mean_squared_error(y_train, y_train_pred_tree)\n",
        "r2_train_tree = r2_score(y_train, y_train_pred_tree)\n",
        "\n",
        "# Test set predictions and evaluation\n",
        "y_test_pred_tree = tree_model.predict(X_test)\n",
        "mse_test_tree = mean_squared_error(y_test, y_test_pred_tree)\n",
        "r2_test_tree = r2_score(y_test, y_test_pred_tree)\n",
        "\n",
        "print(\"Decision Tree - MSE Train:\", mse_train_tree)\n",
        "print(\"Decision Tree - MSE TEST:\", mse_test_tree)\n",
        "print(\"Decision Tree - R2 Train:\", r2_train_tree)\n",
        "print(\"Decision Tree - R2 TEST:\", r2_test_tree)"
      ],
      "metadata": {
        "colab": {
          "base_uri": "https://localhost:8080/"
        },
        "id": "GbMVd4TExdh1",
        "outputId": "d06aee7b-38c6-4541-df11-b0c78d7117e1"
      },
      "execution_count": 743,
      "outputs": [
        {
          "output_type": "stream",
          "name": "stdout",
          "text": [
            "Decision Tree - MSE Train: 0.00510204081632653\n",
            "Decision Tree - MSE TEST: 109.92301296694438\n",
            "Decision Tree - R2 Train: 0.999891239218396\n",
            "Decision Tree - R2 TEST: -3.685340617681768\n"
          ]
        }
      ]
    },
    {
      "cell_type": "code",
      "source": [
        "import pandas as pd\n",
        "from sklearn.model_selection import train_test_split\n",
        "from sklearn.tree import DecisionTreeRegressor\n",
        "from sklearn.ensemble import RandomForestRegressor\n",
        "from sklearn.metrics import mean_squared_error, r2_score\n",
        "\n",
        "tree_model = DecisionTreeRegressor(random_state=0, splitter=\"random\")\n",
        "tree_model.fit(X_train, y_train)\n",
        "\n",
        "# Training set predictions and evaluation\n",
        "y_train_pred_tree = tree_model.predict(X_train)\n",
        "mse_train_tree = mean_squared_error(y_train, y_train_pred_tree)\n",
        "r2_train_tree = r2_score(y_train, y_train_pred_tree)\n",
        "\n",
        "# Test set predictions and evaluation\n",
        "y_test_pred_tree = tree_model.predict(X_test)\n",
        "mse_test_tree = mean_squared_error(y_test, y_test_pred_tree)\n",
        "r2_test_tree = r2_score(y_test, y_test_pred_tree)\n",
        "\n",
        "print(\"Hyperparameter Decision Tree - MSE Train:\", mse_train_tree)\n",
        "print(\"Hyperparameter Decision Tree - MSE TEST:\", mse_test_tree)\n",
        "print(\"Hyperparameter Decision Tree - R2 Train:\", r2_train_tree)\n",
        "print(\"Hyperparameter Decision Tree - R2 TEST:\", r2_test_tree)"
      ],
      "metadata": {
        "colab": {
          "base_uri": "https://localhost:8080/"
        },
        "id": "cGGsXJN1Mlmm",
        "outputId": "a6f7b0aa-0cfb-4167-bb75-32010a8f85f6"
      },
      "execution_count": 744,
      "outputs": [
        {
          "output_type": "stream",
          "name": "stdout",
          "text": [
            "Hyperparameter Decision Tree - MSE Train: 0.00510204081632653\n",
            "Hyperparameter Decision Tree - MSE TEST: 41.862732912299556\n",
            "Hyperparameter Decision Tree - R2 Train: 0.999891239218396\n",
            "Hyperparameter Decision Tree - R2 TEST: -0.7843503156171974\n"
          ]
        }
      ]
    },
    {
      "cell_type": "markdown",
      "source": [
        "**Random Forest**"
      ],
      "metadata": {
        "id": "0OqL014jM1oQ"
      }
    },
    {
      "cell_type": "code",
      "source": [
        "import pandas as pd\n",
        "from sklearn.model_selection import train_test_split\n",
        "from sklearn.tree import DecisionTreeRegressor\n",
        "from sklearn.ensemble import RandomForestRegressor\n",
        "from sklearn.metrics import mean_squared_error, r2_score\n",
        "\n",
        "rf_model = RandomForestRegressor()\n",
        "rf_model.fit(X_train, y_train)\n",
        "\n",
        "# Training set predictions and evaluation\n",
        "y_train_pred_rf = rf_model.predict(X_train)\n",
        "mse_train_rf = mean_squared_error(y_train, y_train_pred_rf)\n",
        "r2_train_rf = r2_score(y_train, y_train_pred_rf)\n",
        "\n",
        "# Test set predictions and evaluation\n",
        "y_test_pred_rf = rf_model.predict(X_test)\n",
        "mse_test_rf = mean_squared_error(y_test, y_test_pred_rf)\n",
        "r2_test_rf = r2_score(y_test, y_test_pred_rf)\n",
        "\n",
        "print(\"Random Forest - MSE Train:\", mse_train_rf)\n",
        "print(\"Random Forest - MSE TEST:\", mse_test_rf)\n",
        "print(\"Random Forest - R2 Train:\", r2_train_rf)\n",
        "print(\"Random Forest - R2 TEST:\", r2_test_rf)"
      ],
      "metadata": {
        "colab": {
          "base_uri": "https://localhost:8080/"
        },
        "id": "fLeoH4pByXzE",
        "outputId": "455df4e0-6dba-43fa-c3f1-7ddaf485701e"
      },
      "execution_count": 765,
      "outputs": [
        {
          "output_type": "stream",
          "name": "stdout",
          "text": [
            "Random Forest - MSE Train: 6.292490479880424\n",
            "Random Forest - MSE TEST: 33.33894626492995\n",
            "Random Forest - R2 Train: 0.8658622681656934\n",
            "Random Forest - R2 TEST: -0.4210338205773101\n"
          ]
        }
      ]
    },
    {
      "cell_type": "code",
      "source": [
        "import pandas as pd\n",
        "from sklearn.model_selection import train_test_split\n",
        "from sklearn.tree import DecisionTreeRegressor\n",
        "from sklearn.ensemble import RandomForestRegressor\n",
        "from sklearn.metrics import mean_squared_error, r2_score\n",
        "\n",
        "rf_model = RandomForestRegressor(n_estimators = 100, bootstrap=False, max_features = 'sqrt', random_state = 0)\n",
        "rf_model.fit(X_train, y_train)\n",
        "\n",
        "# Training set predictions and evaluation\n",
        "y_train_pred_rf = rf_model.predict(X_train)\n",
        "mse_train_rf = mean_squared_error(y_train, y_train_pred_rf)\n",
        "r2_train_rf = r2_score(y_train, y_train_pred_rf)\n",
        "\n",
        "# Test set predictions and evaluation\n",
        "y_test_pred_rf = rf_model.predict(X_test)\n",
        "mse_test_rf = mean_squared_error(y_test, y_test_pred_rf)\n",
        "r2_test_rf = r2_score(y_test, y_test_pred_rf)\n",
        "\n",
        "print(\"Hyperparameter Random Forest - MSE Train:\", mse_train_rf)\n",
        "print(\"Hyperparameter Random Forest - MSE TEST:\", mse_test_rf)\n",
        "print(\"Hyperparameter Random Forest - R2 Train:\", r2_train_rf)\n",
        "print(\"Hyperparameter Random Forest - R2 TEST:\", r2_test_rf)"
      ],
      "metadata": {
        "colab": {
          "base_uri": "https://localhost:8080/"
        },
        "id": "7GGAhuLNM7Qx",
        "outputId": "cceadba8-effe-4314-9dc6-0afbd4165f3a"
      },
      "execution_count": 757,
      "outputs": [
        {
          "output_type": "stream",
          "name": "stdout",
          "text": [
            "Hyperparameter Random Forest - MSE Train: 0.00510204081632653\n",
            "Hyperparameter Random Forest - MSE TEST: 35.28099169886008\n",
            "Hyperparameter Random Forest - R2 Train: 0.999891239218396\n",
            "Hyperparameter Random Forest - R2 TEST: -0.5038112491373559\n"
          ]
        }
      ]
    },
    {
      "cell_type": "markdown",
      "source": [
        "**k Nearest Neighbors**"
      ],
      "metadata": {
        "id": "cBdWpQU1rpW8"
      }
    },
    {
      "cell_type": "code",
      "source": [
        "from sklearn.neighbors import KNeighborsRegressor\n",
        "\n",
        "model = KNeighborsRegressor()\n",
        "model.fit(X_train, y_train)\n",
        "KNeighborsRegressor(algorithm='auto', leaf_size=30, metric='minkowski',\n",
        "          metric_params=None, n_jobs=1, n_neighbors=5, p=2,\n",
        "          weights='uniform')"
      ],
      "metadata": {
        "colab": {
          "base_uri": "https://localhost:8080/",
          "height": 74
        },
        "id": "DhL91FZ52wHN",
        "outputId": "e511049d-4b14-419f-808c-7d1e67b1768d"
      },
      "execution_count": 749,
      "outputs": [
        {
          "output_type": "execute_result",
          "data": {
            "text/plain": [
              "KNeighborsRegressor(n_jobs=1)"
            ],
            "text/html": [
              "<style>#sk-container-id-25 {color: black;background-color: white;}#sk-container-id-25 pre{padding: 0;}#sk-container-id-25 div.sk-toggleable {background-color: white;}#sk-container-id-25 label.sk-toggleable__label {cursor: pointer;display: block;width: 100%;margin-bottom: 0;padding: 0.3em;box-sizing: border-box;text-align: center;}#sk-container-id-25 label.sk-toggleable__label-arrow:before {content: \"▸\";float: left;margin-right: 0.25em;color: #696969;}#sk-container-id-25 label.sk-toggleable__label-arrow:hover:before {color: black;}#sk-container-id-25 div.sk-estimator:hover label.sk-toggleable__label-arrow:before {color: black;}#sk-container-id-25 div.sk-toggleable__content {max-height: 0;max-width: 0;overflow: hidden;text-align: left;background-color: #f0f8ff;}#sk-container-id-25 div.sk-toggleable__content pre {margin: 0.2em;color: black;border-radius: 0.25em;background-color: #f0f8ff;}#sk-container-id-25 input.sk-toggleable__control:checked~div.sk-toggleable__content {max-height: 200px;max-width: 100%;overflow: auto;}#sk-container-id-25 input.sk-toggleable__control:checked~label.sk-toggleable__label-arrow:before {content: \"▾\";}#sk-container-id-25 div.sk-estimator input.sk-toggleable__control:checked~label.sk-toggleable__label {background-color: #d4ebff;}#sk-container-id-25 div.sk-label input.sk-toggleable__control:checked~label.sk-toggleable__label {background-color: #d4ebff;}#sk-container-id-25 input.sk-hidden--visually {border: 0;clip: rect(1px 1px 1px 1px);clip: rect(1px, 1px, 1px, 1px);height: 1px;margin: -1px;overflow: hidden;padding: 0;position: absolute;width: 1px;}#sk-container-id-25 div.sk-estimator {font-family: monospace;background-color: #f0f8ff;border: 1px dotted black;border-radius: 0.25em;box-sizing: border-box;margin-bottom: 0.5em;}#sk-container-id-25 div.sk-estimator:hover {background-color: #d4ebff;}#sk-container-id-25 div.sk-parallel-item::after {content: \"\";width: 100%;border-bottom: 1px solid gray;flex-grow: 1;}#sk-container-id-25 div.sk-label:hover label.sk-toggleable__label {background-color: #d4ebff;}#sk-container-id-25 div.sk-serial::before {content: \"\";position: absolute;border-left: 1px solid gray;box-sizing: border-box;top: 0;bottom: 0;left: 50%;z-index: 0;}#sk-container-id-25 div.sk-serial {display: flex;flex-direction: column;align-items: center;background-color: white;padding-right: 0.2em;padding-left: 0.2em;position: relative;}#sk-container-id-25 div.sk-item {position: relative;z-index: 1;}#sk-container-id-25 div.sk-parallel {display: flex;align-items: stretch;justify-content: center;background-color: white;position: relative;}#sk-container-id-25 div.sk-item::before, #sk-container-id-25 div.sk-parallel-item::before {content: \"\";position: absolute;border-left: 1px solid gray;box-sizing: border-box;top: 0;bottom: 0;left: 50%;z-index: -1;}#sk-container-id-25 div.sk-parallel-item {display: flex;flex-direction: column;z-index: 1;position: relative;background-color: white;}#sk-container-id-25 div.sk-parallel-item:first-child::after {align-self: flex-end;width: 50%;}#sk-container-id-25 div.sk-parallel-item:last-child::after {align-self: flex-start;width: 50%;}#sk-container-id-25 div.sk-parallel-item:only-child::after {width: 0;}#sk-container-id-25 div.sk-dashed-wrapped {border: 1px dashed gray;margin: 0 0.4em 0.5em 0.4em;box-sizing: border-box;padding-bottom: 0.4em;background-color: white;}#sk-container-id-25 div.sk-label label {font-family: monospace;font-weight: bold;display: inline-block;line-height: 1.2em;}#sk-container-id-25 div.sk-label-container {text-align: center;}#sk-container-id-25 div.sk-container {/* jupyter's `normalize.less` sets `[hidden] { display: none; }` but bootstrap.min.css set `[hidden] { display: none !important; }` so we also need the `!important` here to be able to override the default hidden behavior on the sphinx rendered scikit-learn.org. See: https://github.com/scikit-learn/scikit-learn/issues/21755 */display: inline-block !important;position: relative;}#sk-container-id-25 div.sk-text-repr-fallback {display: none;}</style><div id=\"sk-container-id-25\" class=\"sk-top-container\"><div class=\"sk-text-repr-fallback\"><pre>KNeighborsRegressor(n_jobs=1)</pre><b>In a Jupyter environment, please rerun this cell to show the HTML representation or trust the notebook. <br />On GitHub, the HTML representation is unable to render, please try loading this page with nbviewer.org.</b></div><div class=\"sk-container\" hidden><div class=\"sk-item\"><div class=\"sk-estimator sk-toggleable\"><input class=\"sk-toggleable__control sk-hidden--visually\" id=\"sk-estimator-id-25\" type=\"checkbox\" checked><label for=\"sk-estimator-id-25\" class=\"sk-toggleable__label sk-toggleable__label-arrow\">KNeighborsRegressor</label><div class=\"sk-toggleable__content\"><pre>KNeighborsRegressor(n_jobs=1)</pre></div></div></div></div></div>"
            ]
          },
          "metadata": {},
          "execution_count": 749
        }
      ]
    },
    {
      "cell_type": "code",
      "source": [
        "from sklearn.neighbors import KNeighborsRegressor\n",
        "from sklearn.metrics import mean_squared_error, r2_score\n",
        "\n",
        "model = KNeighborsRegressor()\n",
        "\n",
        "# Fit the model to the training data\n",
        "model.fit(X_train, y_train)\n",
        "\n",
        "# Make predictions using the model\n",
        "y_train_pred = model.predict(X_train)\n",
        "y_test_pred = model.predict(X_test)\n",
        "\n",
        "# Calculate Mean Squared Error (MSE) and R-squared (R2) for the training set\n",
        "mse_train = mean_squared_error(y_train, y_train_pred)\n",
        "r2_train = r2_score(y_train, y_train_pred)\n",
        "\n",
        "# Calculate Mean Squared Error (MSE) and R-squared (R2) for the testing set\n",
        "mse_test = mean_squared_error(y_test, y_test_pred)\n",
        "r2_test = r2_score(y_test, y_test_pred)\n",
        "\n",
        "# Print the results\n",
        "print(f\"MSE Train: {mse_train}\")\n",
        "print(f\"MSE TEST: {mse_test}\")\n",
        "print(f\"R2 Train: {r2_train}\")\n",
        "print(f\"R2 TEST: {r2_test}\")"
      ],
      "metadata": {
        "colab": {
          "base_uri": "https://localhost:8080/"
        },
        "id": "MLZGIwzo3ER3",
        "outputId": "50305dac-c7ad-48b6-e89c-dd07c23bb326"
      },
      "execution_count": 750,
      "outputs": [
        {
          "output_type": "stream",
          "name": "stdout",
          "text": [
            "MSE Train: 32.94652586807365\n",
            "MSE TEST: 31.2303981904506\n",
            "R2 Train: 0.29767517870798754\n",
            "R2 TEST: -0.3311594105603317\n"
          ]
        }
      ]
    },
    {
      "cell_type": "markdown",
      "source": [
        "### **Conclusion**"
      ],
      "metadata": {
        "id": "HRM9f1bP_ItW"
      }
    },
    {
      "cell_type": "markdown",
      "source": [
        "In conclusion, among all the regression algorithms we have implemented, **Decision Tree** and **Random Forest** gave us the best performance. The Decision Tree model achieved a Train MSE of **0.005** and a Train R2 of **0.99**, suggesting almost excellent performance on the training data. However, its Test MSE of **109.92** and Test R2 of **-3.68** indicated overfitting and poor generalization to unseen data. Through hyperparameter tuning with setting **random_state** to **0** and **splitter** to **\"random\"**, we improved the Test MSE to **41.86** and Test R2 to **-0.78** while maintaining Train MSE (**0.005**) and Train R2 (**0.99**).\n",
        "\n",
        "Similarly, the Random Forest model initially produced a Train MSE of **6.29** and a Train R2 of **0.86**, with Test MSE of **33.33** and Test R2 of **-0.42**. After hyperparameter tuning with setting **bootstrap** to **False**, **max_features** to **'sqrt'**, and **random_state** to **0**, we achieved a Train MSE of **0.005** and a Train R2 of **0.999**, with Test MSE of **35.28** and Test R2 of **-0.50**, again indicating an excellent performance on the training data while maintaining same performance for training data. Moreover, both of these tuned implementations outperformed the base case, which had a Train MSE of **1.58**, Test MSE of **108.83**, Train R2 of **0.96**, and Test R2 of **-3.63**.\n",
        "\n",
        "It's noteworthy that across all implementations, we consistently obtained negative values for the Test R2 metric, indicating that our models struggled to generalize to unseen data. This suggests a need for further exploration and potentially more advanced techniques or feature engineering to improve the models' generalization performance."
      ],
      "metadata": {
        "id": "dVcKdA-k_R9w"
      }
    }
  ],
  "metadata": {
    "kernelspec": {
      "display_name": "venv",
      "language": "python",
      "name": "python3"
    },
    "language_info": {
      "codemirror_mode": {
        "name": "ipython",
        "version": 3
      },
      "file_extension": ".py",
      "mimetype": "text/x-python",
      "name": "python",
      "nbconvert_exporter": "python",
      "pygments_lexer": "ipython3",
      "version": "3.11.5"
    },
    "colab": {
      "provenance": []
    }
  },
  "nbformat": 4,
  "nbformat_minor": 0
}